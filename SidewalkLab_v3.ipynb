{
  "nbformat": 4,
  "nbformat_minor": 0,
  "metadata": {
    "colab": {
      "name": "SidewalkLab_v3.ipynb",
      "provenance": [],
      "toc_visible": true,
      "authorship_tag": "ABX9TyM0PaTR6dywp4OV1zUWPUoY",
      "include_colab_link": true
    },
    "kernelspec": {
      "name": "python3",
      "display_name": "Python 3"
    },
    "language_info": {
      "name": "python"
    }
  },
  "cells": [
    {
      "cell_type": "markdown",
      "metadata": {
        "id": "view-in-github",
        "colab_type": "text"
      },
      "source": [
        "<a href=\"https://colab.research.google.com/github/JMawyin/SidewalkLab/blob/main/SidewalkLab_v3.ipynb\" target=\"_parent\"><img src=\"https://colab.research.google.com/assets/colab-badge.svg\" alt=\"Open In Colab\"/></a>"
      ]
    },
    {
      "cell_type": "markdown",
      "metadata": {
        "id": "wHxE41PO3tzk"
      },
      "source": [
        "○ Dataset - http://data.un.org/Explorer.aspx and the ‘Energy Statistics Database’. \n",
        "\n",
        "**Questions:**\n",
        "\n",
        "* i. For 2018, what was the percentage of the World’s electricity generation by the following sources - Coal, Oil, Natural Gas, Biofuels, Hydro, Nuclear, solar, and wind?\n",
        "* ii. For the decade spanning 2008-2018, what was the worldwide energy consumption by the following sectors - households, industry, transport, agriculture, and commercial / public services?\n",
        "* iii. Lastly, we would like you to list up to two (2) questions you consider would be interesting to ask of the same dataset available."
      ]
    },
    {
      "cell_type": "code",
      "metadata": {
        "id": "fCfBLZUd5CeK"
      },
      "source": [
        "import pandas as pd\n",
        "import altair as alt"
      ],
      "execution_count": null,
      "outputs": []
    },
    {
      "cell_type": "code",
      "metadata": {
        "colab": {
          "base_uri": "https://localhost:8080/"
        },
        "id": "HWgqInk43NoD",
        "outputId": "94ba54be-bf65-47fd-b773-24a3b2fd9211"
      },
      "source": [
        "from google.colab import drive\n",
        "drive.mount('/gdrive')\n",
        "drive.mount('/content/drive')"
      ],
      "execution_count": null,
      "outputs": [
        {
          "output_type": "stream",
          "name": "stdout",
          "text": [
            "Mounted at /gdrive\n",
            "Mounted at /content/drive\n"
          ]
        }
      ]
    },
    {
      "cell_type": "markdown",
      "metadata": {
        "id": "7YR0bBvmG4sz"
      },
      "source": [
        "## Loading List of Datasets from Google Drive"
      ]
    },
    {
      "cell_type": "code",
      "metadata": {
        "colab": {
          "base_uri": "https://localhost:8080/"
        },
        "id": "pN1iZhCRA22s",
        "outputId": "5ec9d324-19fa-4ce3-86a2-39d961f49624"
      },
      "source": [
        "from glob import glob\n",
        "UNdata_path = '/content/drive/MyDrive/Datasets/Sidewalk_Lab/'\n",
        "UN_files = glob(UNdata_path + '*.csv')\n",
        "UN_files.sort()\n",
        "UN_files"
      ],
      "execution_count": null,
      "outputs": [
        {
          "output_type": "execute_result",
          "data": {
            "text/plain": [
              "['/content/drive/MyDrive/Datasets/Sidewalk_Lab/UNdata_Export_BioFuelsOthers.csv',\n",
              " '/content/drive/MyDrive/Datasets/Sidewalk_Lab/UNdata_Export_BioKerosene.csv',\n",
              " '/content/drive/MyDrive/Datasets/Sidewalk_Lab/UNdata_Export_Biodiesel.csv',\n",
              " '/content/drive/MyDrive/Datasets/Sidewalk_Lab/UNdata_Export_Biogases.csv',\n",
              " '/content/drive/MyDrive/Datasets/Sidewalk_Lab/UNdata_Export_Biogasoline.csv',\n",
              " '/content/drive/MyDrive/Datasets/Sidewalk_Lab/UNdata_Export_BrownCoal.csv',\n",
              " '/content/drive/MyDrive/Datasets/Sidewalk_Lab/UNdata_Export_CoalBituminousOther.csv',\n",
              " '/content/drive/MyDrive/Datasets/Sidewalk_Lab/UNdata_Export_CoalBrownBriquette.csv',\n",
              " '/content/drive/MyDrive/Datasets/Sidewalk_Lab/UNdata_Export_CoalCoking.csv',\n",
              " '/content/drive/MyDrive/Datasets/Sidewalk_Lab/UNdata_Export_CoalHard.csv',\n",
              " '/content/drive/MyDrive/Datasets/Sidewalk_Lab/UNdata_Export_CoalTar.csv',\n",
              " '/content/drive/MyDrive/Datasets/Sidewalk_Lab/UNdata_Export_ElectricityHydro.csv',\n",
              " '/content/drive/MyDrive/Datasets/Sidewalk_Lab/UNdata_Export_ElectricityNuclear.csv',\n",
              " '/content/drive/MyDrive/Datasets/Sidewalk_Lab/UNdata_Export_ElectricitySolar.csv',\n",
              " '/content/drive/MyDrive/Datasets/Sidewalk_Lab/UNdata_Export_ElectricityThermal.csv',\n",
              " '/content/drive/MyDrive/Datasets/Sidewalk_Lab/UNdata_Export_ElectricityTidal.csv',\n",
              " '/content/drive/MyDrive/Datasets/Sidewalk_Lab/UNdata_Export_ElectricityWind.csv',\n",
              " '/content/drive/MyDrive/Datasets/Sidewalk_Lab/UNdata_Export_InstalledCapacity.csv',\n",
              " '/content/drive/MyDrive/Datasets/Sidewalk_Lab/UNdata_Export_NaturalGas.csv',\n",
              " '/content/drive/MyDrive/Datasets/Sidewalk_Lab/UNdata_Export_TotalElectricity.csv',\n",
              " '/content/drive/MyDrive/Datasets/Sidewalk_Lab/UNdata_Export_Wind.csv']"
            ]
          },
          "metadata": {},
          "execution_count": 5
        }
      ]
    },
    {
      "cell_type": "markdown",
      "metadata": {
        "id": "h3A8strDA839"
      },
      "source": [
        "## Q1: For 2018, what was the percentage of the World’s electricity generation by the following sources - Coal, Oil, Natural Gas, Biofuels, Hydro, Nuclear, solar, and wind?"
      ]
    },
    {
      "cell_type": "markdown",
      "metadata": {
        "id": "vhFkZaRO7BxD"
      },
      "source": [
        "Here is the subset of all *.csv files from the ‘Energy Statistics Database’ that are electricity generation related."
      ]
    },
    {
      "cell_type": "code",
      "metadata": {
        "colab": {
          "base_uri": "https://localhost:8080/"
        },
        "id": "2nQJRCJWBdTH",
        "outputId": "7b323af2-7613-49e9-a4b3-b4e9509a640c"
      },
      "source": [
        "\n",
        "keywords = [\"electricity\",\"Electricity\"]\n",
        "elec_gen_pths = [s for s in UN_files if any(xs in s for xs in keywords)]\n",
        "print(\"\\n\".join(elec_gen_pths)) #printing every list item with a newline"
      ],
      "execution_count": null,
      "outputs": [
        {
          "output_type": "stream",
          "name": "stdout",
          "text": [
            "/content/drive/MyDrive/Datasets/Sidewalk_Lab/UNdata_Export_ElectricityHydro.csv\n",
            "/content/drive/MyDrive/Datasets/Sidewalk_Lab/UNdata_Export_ElectricityNuclear.csv\n",
            "/content/drive/MyDrive/Datasets/Sidewalk_Lab/UNdata_Export_ElectricitySolar.csv\n",
            "/content/drive/MyDrive/Datasets/Sidewalk_Lab/UNdata_Export_ElectricityThermal.csv\n",
            "/content/drive/MyDrive/Datasets/Sidewalk_Lab/UNdata_Export_ElectricityTidal.csv\n",
            "/content/drive/MyDrive/Datasets/Sidewalk_Lab/UNdata_Export_ElectricityWind.csv\n",
            "/content/drive/MyDrive/Datasets/Sidewalk_Lab/UNdata_Export_TotalElectricity.csv\n"
          ]
        }
      ]
    },
    {
      "cell_type": "markdown",
      "metadata": {
        "id": "zhcAobCi_NKc"
      },
      "source": [
        "### Q1.A Global Electricity Generation"
      ]
    },
    {
      "cell_type": "markdown",
      "metadata": {
        "id": "UJVZkSgh35X9"
      },
      "source": [
        "First, let's calculate the global generation for the year 2018:"
      ]
    },
    {
      "cell_type": "code",
      "metadata": {
        "colab": {
          "base_uri": "https://localhost:8080/"
        },
        "id": "BtLrSK6966mi",
        "outputId": "01c58791-94b7-42ef-a3b7-d9be580d9aa1"
      },
      "source": [
        "total_gen_df = pd.read_csv(elec_gen_pths[6])\n",
        "total_gen_df = total_gen_df.rename({'Country or Area': 'Country', 'Commodity - Transaction': 'Transaction', 'Quantity Footnotes':'Footnotes'}, axis=1)  \n",
        "trans_lst = total_gen_df.Transaction.unique().tolist()\n",
        "trans_lst.sort()\n",
        "print(\"List of transactions in Dataframe:\\n\",\"\\n\".join(trans_lst))"
      ],
      "execution_count": null,
      "outputs": [
        {
          "output_type": "stream",
          "name": "stdout",
          "text": [
            "List of transactions in Dataframe:\n",
            " Electricity - Consumption by chemical and petrochemical\n",
            "Electricity - Consumption by commercial and public services\n",
            "Electricity - Consumption by construction\n",
            "Electricity - Consumption by food and tobacco\n",
            "Electricity - Consumption by households\n",
            "Electricity - Consumption by iron and steel\n",
            "Electricity - Consumption by machinery\n",
            "Electricity - Consumption by manufacturing, construction and non-fuel industry\n",
            "Electricity - Consumption by mining and quarrying\n",
            "Electricity - Consumption by non-ferrous metals\n",
            "Electricity - Consumption by non-metallic minerals\n",
            "Electricity - Consumption by other\n",
            "Electricity - Consumption by other manuf., const. and non-fuel ind.\n",
            "Electricity - Consumption by paper, pulp and print\n",
            "Electricity - Consumption by pipeline transport\n",
            "Electricity - Consumption by rail\n",
            "Electricity - Consumption by road\n",
            "Electricity - Consumption by textile and leather\n",
            "Electricity - Consumption by transport\n",
            "Electricity - Consumption by transport equipment\n",
            "Electricity - Consumption by wood and wood products\n",
            "Electricity - Consumption in agriculture, forestry and fishing\n",
            "Electricity - Consumption not elsewhere specified (industry)\n",
            "Electricity - Consumption not elsewhere specified (other)\n",
            "Electricity - Consumption not elsewhere specified (transport)\n",
            "Electricity - Energy industries own use\n",
            "Electricity - Final energy consumption\n",
            "Electricity - Gross demand\n",
            "Electricity - Gross production\n",
            "Electricity - Losses\n",
            "Electricity - Other energy industry own use\n",
            "Electricity - Own use by LNG/regasification plants\n",
            "Electricity - Own use by blast furnaces\n",
            "Electricity - Own use by briquetting plants\n",
            "Electricity - Own use by charcoal plants\n",
            "Electricity - Own use by coal liquefaction plants\n",
            "Electricity - Own use by coal mines\n",
            "Electricity - Own use by coke ovens\n",
            "Electricity - Own use by electricity, heat and CHP plants\n",
            "Electricity - Own use by gas works\n",
            "Electricity - Own use by gas-to-liquid (GTL) plants\n",
            "Electricity - Own use by nuclear fuel extraction and processing\n",
            "Electricity - Own use by oil and gas extraction\n",
            "Electricity - Own use by oil refineries\n",
            "Electricity - Own use by pump-storage plants\n",
            "Electricity - Used for electric boilers\n",
            "Electricity - Used for heat pumps\n",
            "Electricity - exports\n",
            "Electricity - imports\n",
            "Electricity - net production\n",
            "Electricity - total production, autoproducer\n",
            "Electricity - total production, main activity\n",
            "Estimate\n",
            "Footnote\n",
            "From chemical heat – Autoproducer\n",
            "From chemical heat – Autoproducer – CHP plants\n",
            "From chemical heat – Autoproducer – Electricity plants\n",
            "From chemical heat – Main activity\n",
            "From chemical heat – Main activity – CHP plants\n",
            "From chemical heat – Main activity – Electricity plants\n",
            "From combustible fuels – Autoproducer\n",
            "From combustible fuels – Autoproducer – CHP plants\n",
            "From combustible fuels – Autoproducer – Electricity plants\n",
            "From combustible fuels – Main activity\n",
            "From combustible fuels – Main activity – CHP plants\n",
            "From combustible fuels – Main activity – Electricity plants\n",
            "From other sources – Autoproducer\n",
            "From other sources – Autoproducer – CHP plants\n",
            "From other sources – Autoproducer – Electricity plants\n",
            "From other sources – Main activity\n",
            "From other sources – Main activity – CHP plants\n",
            "From other sources – Main activity – Electricity plants\n",
            "Geothermal – Autoproducer\n",
            "Geothermal – Autoproducer – Electricity plants\n",
            "Geothermal – Main activity\n",
            "Geothermal – Main activity – CHP plants\n",
            "Geothermal – Main activity – Electricity plants\n",
            "Hydro – Autoproducer\n",
            "Hydro – Main activity\n",
            "Nuclear – Autoproducer\n",
            "Nuclear – Autoproducer – Electricity plants\n",
            "Nuclear – Main activity\n",
            "Nuclear – Main activity – CHP plants\n",
            "Nuclear – Main activity – Electricity plants\n",
            "Of which: Pumped hydro – Autoproducer\n",
            "Of which: Pumped hydro – Main activity\n",
            "Solar photovoltaic – Autoproducer\n",
            "Solar photovoltaic – Main activity\n",
            "Solar thermal – Autoproducer\n",
            "Solar thermal – Main activity\n",
            "Solar – Autoproducer\n",
            "Solar – Main activity\n",
            "Tide, wave and marine – Main activity\n",
            "Wind – Autoproducer\n",
            "Wind – Main activity\n"
          ]
        }
      ]
    },
    {
      "cell_type": "code",
      "metadata": {
        "colab": {
          "base_uri": "https://localhost:8080/",
          "height": 190
        },
        "id": "_EXQSf2n9gXx",
        "outputId": "81fe4534-b768-470a-ab4b-aa39c714be6c"
      },
      "source": [
        "print(\"The initial number of records in the total electricity generation data set is:\", len(total_gen_df) )\n",
        "total_gen_df.head(4)"
      ],
      "execution_count": null,
      "outputs": [
        {
          "output_type": "stream",
          "name": "stdout",
          "text": [
            "The initial number of records in the total electricity generation data set is: 100002\n"
          ]
        },
        {
          "output_type": "execute_result",
          "data": {
            "text/html": [
              "<div>\n",
              "<style scoped>\n",
              "    .dataframe tbody tr th:only-of-type {\n",
              "        vertical-align: middle;\n",
              "    }\n",
              "\n",
              "    .dataframe tbody tr th {\n",
              "        vertical-align: top;\n",
              "    }\n",
              "\n",
              "    .dataframe thead th {\n",
              "        text-align: right;\n",
              "    }\n",
              "</style>\n",
              "<table border=\"1\" class=\"dataframe\">\n",
              "  <thead>\n",
              "    <tr style=\"text-align: right;\">\n",
              "      <th></th>\n",
              "      <th>Country</th>\n",
              "      <th>Transaction</th>\n",
              "      <th>Year</th>\n",
              "      <th>Unit</th>\n",
              "      <th>Quantity</th>\n",
              "      <th>Footnotes</th>\n",
              "    </tr>\n",
              "  </thead>\n",
              "  <tbody>\n",
              "    <tr>\n",
              "      <th>0</th>\n",
              "      <td>Afghanistan</td>\n",
              "      <td>Electricity - Gross production</td>\n",
              "      <td>2019.0</td>\n",
              "      <td>Kilowatt-hours, million</td>\n",
              "      <td>1591.50</td>\n",
              "      <td>NaN</td>\n",
              "    </tr>\n",
              "    <tr>\n",
              "      <th>1</th>\n",
              "      <td>Afghanistan</td>\n",
              "      <td>Electricity - Gross production</td>\n",
              "      <td>2018.0</td>\n",
              "      <td>Kilowatt-hours, million</td>\n",
              "      <td>1265.72</td>\n",
              "      <td>NaN</td>\n",
              "    </tr>\n",
              "    <tr>\n",
              "      <th>2</th>\n",
              "      <td>Afghanistan</td>\n",
              "      <td>Electricity - Gross production</td>\n",
              "      <td>2017.0</td>\n",
              "      <td>Kilowatt-hours, million</td>\n",
              "      <td>1420.04</td>\n",
              "      <td>NaN</td>\n",
              "    </tr>\n",
              "    <tr>\n",
              "      <th>3</th>\n",
              "      <td>Afghanistan</td>\n",
              "      <td>Electricity - Gross production</td>\n",
              "      <td>2016.0</td>\n",
              "      <td>Kilowatt-hours, million</td>\n",
              "      <td>1393.90</td>\n",
              "      <td>NaN</td>\n",
              "    </tr>\n",
              "  </tbody>\n",
              "</table>\n",
              "</div>"
            ],
            "text/plain": [
              "       Country                     Transaction  ...  Quantity Footnotes\n",
              "0  Afghanistan  Electricity - Gross production  ...   1591.50       NaN\n",
              "1  Afghanistan  Electricity - Gross production  ...   1265.72       NaN\n",
              "2  Afghanistan  Electricity - Gross production  ...   1420.04       NaN\n",
              "3  Afghanistan  Electricity - Gross production  ...   1393.90       NaN\n",
              "\n",
              "[4 rows x 6 columns]"
            ]
          },
          "metadata": {},
          "execution_count": 19
        }
      ]
    },
    {
      "cell_type": "markdown",
      "metadata": {
        "id": "LmzX_w6s9M5w"
      },
      "source": [
        "From the list of all possible transactions, we are interested in the 2018 net production only."
      ]
    },
    {
      "cell_type": "code",
      "metadata": {
        "colab": {
          "base_uri": "https://localhost:8080/",
          "height": 190
        },
        "id": "IIy3WTuM9ZWs",
        "outputId": "93055d12-22c0-4697-ba82-efd3609a7a2e"
      },
      "source": [
        "total_gen_filt_df = total_gen_df.copy()\n",
        "#total_gen_filt_df = total_gen_filt_df[(total_gen_filt_df.Year == 2018) & (total_gen_filt_df.Transaction == \"Electricity - net production\")]\n",
        "total_gen_filt_df = total_gen_filt_df[(total_gen_filt_df.Year == 2018)]\n",
        "total_gen_filt_df = total_gen_filt_df[(total_gen_filt_df.Transaction == \"Electricity - net production\") | (total_gen_filt_df.Transaction == \"Electricity - total production, autoproducer\") |(total_gen_filt_df.Transaction == \"Electricity - total production, main activity\") | (total_gen_filt_df.Transaction == \"Electricity - Gross production\")]\n",
        "print(\"The filtered number of records in the total electricity generation data set is:\", len(total_gen_filt_df) )\n",
        "total_gen_filt_df.head(4)"
      ],
      "execution_count": null,
      "outputs": [
        {
          "output_type": "stream",
          "name": "stdout",
          "text": [
            "The filtered number of records in the total electricity generation data set is: 493\n"
          ]
        },
        {
          "output_type": "execute_result",
          "data": {
            "text/html": [
              "<div>\n",
              "<style scoped>\n",
              "    .dataframe tbody tr th:only-of-type {\n",
              "        vertical-align: middle;\n",
              "    }\n",
              "\n",
              "    .dataframe tbody tr th {\n",
              "        vertical-align: top;\n",
              "    }\n",
              "\n",
              "    .dataframe thead th {\n",
              "        text-align: right;\n",
              "    }\n",
              "</style>\n",
              "<table border=\"1\" class=\"dataframe\">\n",
              "  <thead>\n",
              "    <tr style=\"text-align: right;\">\n",
              "      <th></th>\n",
              "      <th>Country</th>\n",
              "      <th>Transaction</th>\n",
              "      <th>Year</th>\n",
              "      <th>Unit</th>\n",
              "      <th>Quantity</th>\n",
              "      <th>Footnotes</th>\n",
              "    </tr>\n",
              "  </thead>\n",
              "  <tbody>\n",
              "    <tr>\n",
              "      <th>1</th>\n",
              "      <td>Afghanistan</td>\n",
              "      <td>Electricity - Gross production</td>\n",
              "      <td>2018.0</td>\n",
              "      <td>Kilowatt-hours, million</td>\n",
              "      <td>1265.72</td>\n",
              "      <td>NaN</td>\n",
              "    </tr>\n",
              "    <tr>\n",
              "      <th>178</th>\n",
              "      <td>Afghanistan</td>\n",
              "      <td>Electricity - net production</td>\n",
              "      <td>2018.0</td>\n",
              "      <td>Kilowatt-hours, million</td>\n",
              "      <td>979.00</td>\n",
              "      <td>1.0</td>\n",
              "    </tr>\n",
              "    <tr>\n",
              "      <th>552</th>\n",
              "      <td>Afghanistan</td>\n",
              "      <td>Electricity - total production, main activity</td>\n",
              "      <td>2018.0</td>\n",
              "      <td>Kilowatt-hours, million</td>\n",
              "      <td>978.72</td>\n",
              "      <td>NaN</td>\n",
              "    </tr>\n",
              "    <tr>\n",
              "      <th>612</th>\n",
              "      <td>Afghanistan</td>\n",
              "      <td>Electricity - total production, autoproducer</td>\n",
              "      <td>2018.0</td>\n",
              "      <td>Kilowatt-hours, million</td>\n",
              "      <td>287.00</td>\n",
              "      <td>1.0</td>\n",
              "    </tr>\n",
              "  </tbody>\n",
              "</table>\n",
              "</div>"
            ],
            "text/plain": [
              "         Country  ... Footnotes\n",
              "1    Afghanistan  ...       NaN\n",
              "178  Afghanistan  ...       1.0\n",
              "552  Afghanistan  ...       NaN\n",
              "612  Afghanistan  ...       1.0\n",
              "\n",
              "[4 rows x 6 columns]"
            ]
          },
          "metadata": {},
          "execution_count": 119
        }
      ]
    },
    {
      "cell_type": "markdown",
      "metadata": {
        "id": "kteJxVrn_lPo"
      },
      "source": [
        "The aggregated global electricity generation is:"
      ]
    },
    {
      "cell_type": "code",
      "metadata": {
        "colab": {
          "base_uri": "https://localhost:8080/",
          "height": 173
        },
        "id": "bXQQDlou_pgJ",
        "outputId": "55f5ecbf-6a84-42e4-f8c8-00b2b61d1b65"
      },
      "source": [
        "global_EG = total_gen_filt_df.groupby([\"Transaction\"], as_index=False).agg({'Quantity':['sum']})\n",
        "global_EG.columns = list(map(''.join, global_EG.columns.values))\n",
        "global_EG = global_EG.rename({'Quantitysum': 'Global_Generation [Kilowatt-hours, million]'}, axis=1) \n",
        "global_EG_All = global_EG.iloc[0,1]\n",
        "global_EG"
      ],
      "execution_count": null,
      "outputs": [
        {
          "output_type": "execute_result",
          "data": {
            "text/html": [
              "<div>\n",
              "<style scoped>\n",
              "    .dataframe tbody tr th:only-of-type {\n",
              "        vertical-align: middle;\n",
              "    }\n",
              "\n",
              "    .dataframe tbody tr th {\n",
              "        vertical-align: top;\n",
              "    }\n",
              "\n",
              "    .dataframe thead th {\n",
              "        text-align: right;\n",
              "    }\n",
              "</style>\n",
              "<table border=\"1\" class=\"dataframe\">\n",
              "  <thead>\n",
              "    <tr style=\"text-align: right;\">\n",
              "      <th></th>\n",
              "      <th>Transaction</th>\n",
              "      <th>Global_Generation [Kilowatt-hours, million]</th>\n",
              "    </tr>\n",
              "  </thead>\n",
              "  <tbody>\n",
              "    <tr>\n",
              "      <th>0</th>\n",
              "      <td>Electricity - Gross production</td>\n",
              "      <td>1.630542e+07</td>\n",
              "    </tr>\n",
              "    <tr>\n",
              "      <th>1</th>\n",
              "      <td>Electricity - net production</td>\n",
              "      <td>1.534145e+07</td>\n",
              "    </tr>\n",
              "    <tr>\n",
              "      <th>2</th>\n",
              "      <td>Electricity - total production, autoproducer</td>\n",
              "      <td>1.279051e+06</td>\n",
              "    </tr>\n",
              "    <tr>\n",
              "      <th>3</th>\n",
              "      <td>Electricity - total production, main activity</td>\n",
              "      <td>1.502458e+07</td>\n",
              "    </tr>\n",
              "  </tbody>\n",
              "</table>\n",
              "</div>"
            ],
            "text/plain": [
              "                                     Transaction  Global_Generation [Kilowatt-hours, million]\n",
              "0                 Electricity - Gross production                                 1.630542e+07\n",
              "1                   Electricity - net production                                 1.534145e+07\n",
              "2   Electricity - total production, autoproducer                                 1.279051e+06\n",
              "3  Electricity - total production, main activity                                 1.502458e+07"
            ]
          },
          "metadata": {},
          "execution_count": 121
        }
      ]
    },
    {
      "cell_type": "markdown",
      "metadata": {
        "id": "Gq9ahUnHFRrt"
      },
      "source": [
        "### Q1.B Function to Filter Year of Interest and Transaction Label"
      ]
    },
    {
      "cell_type": "code",
      "metadata": {
        "id": "dmNiwLl_Cve3"
      },
      "source": [
        "def data_filter(df, Year_OI, Transaction_lbl):\n",
        "  filter_df = df.copy()\n",
        "  filter_df = filter_df.rename({'Country or Area': 'Country', 'Commodity - Transaction': 'Transaction', 'Quantity Footnotes':'Footnotes'}, axis=1)  \n",
        "  trans_lst = filter_df.Transaction.unique().tolist()\n",
        "  trans_lst.sort()\n",
        "  print(\"Initial List of transactions in Dataframe:\\n\",\"\\n\".join(trans_lst))\n",
        "  filter_df = filter_df[(filter_df.Year == Year_OI) & (filter_df.Transaction == Transaction_lbl)]\n",
        "  return filter_df\n",
        "\n"
      ],
      "execution_count": null,
      "outputs": []
    },
    {
      "cell_type": "code",
      "metadata": {
        "id": "FaL3Fv44Fl1Q"
      },
      "source": [
        "def data_aggr(df, Transaction_col, Value_col, Agg_Col_Lbl):\n",
        "  agg_df = df.copy()\n",
        "  agg_df = agg_df.groupby([Transaction_col], as_index=False).agg({Value_col:['sum']})\n",
        "  agg_df.columns = list(map(''.join, global_EG.columns.values))\n",
        "  agg_df = agg_df.rename({'Quantitysum': Agg_Col_Lbl}, axis=1) \n",
        "  return agg_df\n"
      ],
      "execution_count": null,
      "outputs": []
    },
    {
      "cell_type": "markdown",
      "metadata": {
        "id": "NA83XUWBAmy3"
      },
      "source": [
        "### Q1.C Global Electricity Generation from Renewables"
      ]
    },
    {
      "cell_type": "markdown",
      "metadata": {
        "id": "jpFwyA1GBGmV"
      },
      "source": [
        "#### From Solar:"
      ]
    },
    {
      "cell_type": "code",
      "metadata": {
        "colab": {
          "base_uri": "https://localhost:8080/",
          "height": 80
        },
        "id": "jqHGJ4x1BKlz",
        "outputId": "b30d94f8-9da9-4e97-c2d0-20d9b768308c"
      },
      "source": [
        "total_solar_df = pd.read_csv(elec_gen_pths[2])\n",
        "total_solar_df.head(1)"
      ],
      "execution_count": null,
      "outputs": [
        {
          "output_type": "execute_result",
          "data": {
            "text/html": [
              "<div>\n",
              "<style scoped>\n",
              "    .dataframe tbody tr th:only-of-type {\n",
              "        vertical-align: middle;\n",
              "    }\n",
              "\n",
              "    .dataframe tbody tr th {\n",
              "        vertical-align: top;\n",
              "    }\n",
              "\n",
              "    .dataframe thead th {\n",
              "        text-align: right;\n",
              "    }\n",
              "</style>\n",
              "<table border=\"1\" class=\"dataframe\">\n",
              "  <thead>\n",
              "    <tr style=\"text-align: right;\">\n",
              "      <th></th>\n",
              "      <th>Country or Area</th>\n",
              "      <th>Commodity - Transaction</th>\n",
              "      <th>Year</th>\n",
              "      <th>Unit</th>\n",
              "      <th>Quantity</th>\n",
              "      <th>Quantity Footnotes</th>\n",
              "    </tr>\n",
              "  </thead>\n",
              "  <tbody>\n",
              "    <tr>\n",
              "      <th>0</th>\n",
              "      <td>Afghanistan</td>\n",
              "      <td>Electricity - total solar production</td>\n",
              "      <td>2019.0</td>\n",
              "      <td>Kilowatt-hours, million</td>\n",
              "      <td>20.77</td>\n",
              "      <td>NaN</td>\n",
              "    </tr>\n",
              "  </tbody>\n",
              "</table>\n",
              "</div>"
            ],
            "text/plain": [
              "  Country or Area  ... Quantity Footnotes\n",
              "0     Afghanistan  ...                NaN\n",
              "\n",
              "[1 rows x 6 columns]"
            ]
          },
          "metadata": {},
          "execution_count": 48
        }
      ]
    },
    {
      "cell_type": "code",
      "metadata": {
        "colab": {
          "base_uri": "https://localhost:8080/",
          "height": 272
        },
        "id": "A2W-JErJEVQm",
        "outputId": "4166db8d-9f46-4dc8-d486-8b285bf0092f"
      },
      "source": [
        "Trans_lbl = \"Electricity - total solar production\"\n",
        "total_solar_filt_df = data_filter(total_solar_df, 2018, Trans_lbl)\n",
        "total_solar_filt_df.head(5)"
      ],
      "execution_count": null,
      "outputs": [
        {
          "output_type": "stream",
          "name": "stdout",
          "text": [
            "Initial List of transactions in Dataframe:\n",
            " Electricity - total solar production\n",
            "Estimate\n",
            "Footnote\n"
          ]
        },
        {
          "output_type": "execute_result",
          "data": {
            "text/html": [
              "<div>\n",
              "<style scoped>\n",
              "    .dataframe tbody tr th:only-of-type {\n",
              "        vertical-align: middle;\n",
              "    }\n",
              "\n",
              "    .dataframe tbody tr th {\n",
              "        vertical-align: top;\n",
              "    }\n",
              "\n",
              "    .dataframe thead th {\n",
              "        text-align: right;\n",
              "    }\n",
              "</style>\n",
              "<table border=\"1\" class=\"dataframe\">\n",
              "  <thead>\n",
              "    <tr style=\"text-align: right;\">\n",
              "      <th></th>\n",
              "      <th>Country</th>\n",
              "      <th>Transaction</th>\n",
              "      <th>Year</th>\n",
              "      <th>Unit</th>\n",
              "      <th>Quantity</th>\n",
              "      <th>Footnotes</th>\n",
              "    </tr>\n",
              "  </thead>\n",
              "  <tbody>\n",
              "    <tr>\n",
              "      <th>1</th>\n",
              "      <td>Algeria</td>\n",
              "      <td>Electricity - total solar production</td>\n",
              "      <td>2018.0</td>\n",
              "      <td>Kilowatt-hours, million</td>\n",
              "      <td>62.000</td>\n",
              "      <td>1.0</td>\n",
              "    </tr>\n",
              "    <tr>\n",
              "      <th>6</th>\n",
              "      <td>American Samoa</td>\n",
              "      <td>Electricity - total solar production</td>\n",
              "      <td>2018.0</td>\n",
              "      <td>Kilowatt-hours, million</td>\n",
              "      <td>4.832</td>\n",
              "      <td>NaN</td>\n",
              "    </tr>\n",
              "    <tr>\n",
              "      <th>15</th>\n",
              "      <td>Andorra</td>\n",
              "      <td>Electricity - total solar production</td>\n",
              "      <td>2018.0</td>\n",
              "      <td>Kilowatt-hours, million</td>\n",
              "      <td>0.900</td>\n",
              "      <td>1.0</td>\n",
              "    </tr>\n",
              "    <tr>\n",
              "      <th>20</th>\n",
              "      <td>Angola</td>\n",
              "      <td>Electricity - total solar production</td>\n",
              "      <td>2018.0</td>\n",
              "      <td>Kilowatt-hours, million</td>\n",
              "      <td>18.000</td>\n",
              "      <td>NaN</td>\n",
              "    </tr>\n",
              "    <tr>\n",
              "      <th>35</th>\n",
              "      <td>Anguilla</td>\n",
              "      <td>Electricity - total solar production</td>\n",
              "      <td>2018.0</td>\n",
              "      <td>Kilowatt-hours, million</td>\n",
              "      <td>0.300</td>\n",
              "      <td>1.0</td>\n",
              "    </tr>\n",
              "  </tbody>\n",
              "</table>\n",
              "</div>"
            ],
            "text/plain": [
              "           Country                           Transaction  ...  Quantity Footnotes\n",
              "1          Algeria  Electricity - total solar production  ...    62.000       1.0\n",
              "6   American Samoa  Electricity - total solar production  ...     4.832       NaN\n",
              "15         Andorra  Electricity - total solar production  ...     0.900       1.0\n",
              "20          Angola  Electricity - total solar production  ...    18.000       NaN\n",
              "35        Anguilla  Electricity - total solar production  ...     0.300       1.0\n",
              "\n",
              "[5 rows x 6 columns]"
            ]
          },
          "metadata": {},
          "execution_count": 47
        }
      ]
    },
    {
      "cell_type": "code",
      "metadata": {
        "colab": {
          "base_uri": "https://localhost:8080/",
          "height": 80
        },
        "id": "KS0xc89CGWhh",
        "outputId": "a5cd2a2e-a641-4c3f-ab7c-0e263fc9db9c"
      },
      "source": [
        "Trans_col = \"Transaction\"\n",
        "Value_col = \"Quantity\"\n",
        "Agg_Col_Lbl = \"Global_Solar_Generation [Kilowatt-hours, million]\"\n",
        "global_Solar = data_aggr(total_solar_filt_df, Trans_col,Value_col, Agg_Col_Lbl)\n",
        "global_Solar_All = global_Solar.iloc[0,1]\n",
        "global_Solar"
      ],
      "execution_count": null,
      "outputs": [
        {
          "output_type": "execute_result",
          "data": {
            "text/html": [
              "<div>\n",
              "<style scoped>\n",
              "    .dataframe tbody tr th:only-of-type {\n",
              "        vertical-align: middle;\n",
              "    }\n",
              "\n",
              "    .dataframe tbody tr th {\n",
              "        vertical-align: top;\n",
              "    }\n",
              "\n",
              "    .dataframe thead th {\n",
              "        text-align: right;\n",
              "    }\n",
              "</style>\n",
              "<table border=\"1\" class=\"dataframe\">\n",
              "  <thead>\n",
              "    <tr style=\"text-align: right;\">\n",
              "      <th></th>\n",
              "      <th>Transaction</th>\n",
              "      <th>Global_Generation [Kilowatt-hours, million]</th>\n",
              "    </tr>\n",
              "  </thead>\n",
              "  <tbody>\n",
              "    <tr>\n",
              "      <th>0</th>\n",
              "      <td>Electricity - total solar production</td>\n",
              "      <td>565067.347833</td>\n",
              "    </tr>\n",
              "  </tbody>\n",
              "</table>\n",
              "</div>"
            ],
            "text/plain": [
              "                            Transaction  Global_Generation [Kilowatt-hours, million]\n",
              "0  Electricity - total solar production                                565067.347833"
            ]
          },
          "metadata": {},
          "execution_count": 92
        }
      ]
    },
    {
      "cell_type": "markdown",
      "metadata": {
        "id": "NWJp8DDvBLPr"
      },
      "source": [
        "#### From Wind:"
      ]
    },
    {
      "cell_type": "code",
      "metadata": {
        "colab": {
          "base_uri": "https://localhost:8080/",
          "height": 80
        },
        "id": "oLc534JlBNDK",
        "outputId": "c85eb0a7-79b3-4270-8716-00dedd6ae775"
      },
      "source": [
        "total_wind_df = pd.read_csv(elec_gen_pths[5])\n",
        "total_wind_df.head(1)"
      ],
      "execution_count": null,
      "outputs": [
        {
          "output_type": "execute_result",
          "data": {
            "text/html": [
              "<div>\n",
              "<style scoped>\n",
              "    .dataframe tbody tr th:only-of-type {\n",
              "        vertical-align: middle;\n",
              "    }\n",
              "\n",
              "    .dataframe tbody tr th {\n",
              "        vertical-align: top;\n",
              "    }\n",
              "\n",
              "    .dataframe thead th {\n",
              "        text-align: right;\n",
              "    }\n",
              "</style>\n",
              "<table border=\"1\" class=\"dataframe\">\n",
              "  <thead>\n",
              "    <tr style=\"text-align: right;\">\n",
              "      <th></th>\n",
              "      <th>Country or Area</th>\n",
              "      <th>Commodity - Transaction</th>\n",
              "      <th>Year</th>\n",
              "      <th>Unit</th>\n",
              "      <th>Quantity</th>\n",
              "      <th>Quantity Footnotes</th>\n",
              "    </tr>\n",
              "  </thead>\n",
              "  <tbody>\n",
              "    <tr>\n",
              "      <th>0</th>\n",
              "      <td>Algeria</td>\n",
              "      <td>Electricity - total wind production</td>\n",
              "      <td>2018.0</td>\n",
              "      <td>Kilowatt-hours, million</td>\n",
              "      <td>84.0</td>\n",
              "      <td>1.0</td>\n",
              "    </tr>\n",
              "  </tbody>\n",
              "</table>\n",
              "</div>"
            ],
            "text/plain": [
              "  Country or Area  ... Quantity Footnotes\n",
              "0         Algeria  ...                1.0\n",
              "\n",
              "[1 rows x 6 columns]"
            ]
          },
          "metadata": {},
          "execution_count": 49
        }
      ]
    },
    {
      "cell_type": "code",
      "metadata": {
        "colab": {
          "base_uri": "https://localhost:8080/",
          "height": 148
        },
        "id": "3qj5uRaxJkmF",
        "outputId": "918345d3-eb00-46bd-e4a0-0c3d7ba7aee8"
      },
      "source": [
        "Trans_lbl = \"Electricity - total wind production\"\n",
        "total_wind_filt_df = data_filter(total_wind_df, 2018, Trans_lbl)\n",
        "total_wind_filt_df.head(1)"
      ],
      "execution_count": null,
      "outputs": [
        {
          "output_type": "stream",
          "name": "stdout",
          "text": [
            "Initial List of transactions in Dataframe:\n",
            " Electricity - total wind production\n",
            "Estimate\n",
            "Footnote\n"
          ]
        },
        {
          "output_type": "execute_result",
          "data": {
            "text/html": [
              "<div>\n",
              "<style scoped>\n",
              "    .dataframe tbody tr th:only-of-type {\n",
              "        vertical-align: middle;\n",
              "    }\n",
              "\n",
              "    .dataframe tbody tr th {\n",
              "        vertical-align: top;\n",
              "    }\n",
              "\n",
              "    .dataframe thead th {\n",
              "        text-align: right;\n",
              "    }\n",
              "</style>\n",
              "<table border=\"1\" class=\"dataframe\">\n",
              "  <thead>\n",
              "    <tr style=\"text-align: right;\">\n",
              "      <th></th>\n",
              "      <th>Country</th>\n",
              "      <th>Transaction</th>\n",
              "      <th>Year</th>\n",
              "      <th>Unit</th>\n",
              "      <th>Quantity</th>\n",
              "      <th>Footnotes</th>\n",
              "    </tr>\n",
              "  </thead>\n",
              "  <tbody>\n",
              "    <tr>\n",
              "      <th>0</th>\n",
              "      <td>Algeria</td>\n",
              "      <td>Electricity - total wind production</td>\n",
              "      <td>2018.0</td>\n",
              "      <td>Kilowatt-hours, million</td>\n",
              "      <td>84.0</td>\n",
              "      <td>1.0</td>\n",
              "    </tr>\n",
              "  </tbody>\n",
              "</table>\n",
              "</div>"
            ],
            "text/plain": [
              "   Country                          Transaction  ...  Quantity Footnotes\n",
              "0  Algeria  Electricity - total wind production  ...      84.0       1.0\n",
              "\n",
              "[1 rows x 6 columns]"
            ]
          },
          "metadata": {},
          "execution_count": 53
        }
      ]
    },
    {
      "cell_type": "code",
      "metadata": {
        "colab": {
          "base_uri": "https://localhost:8080/",
          "height": 80
        },
        "id": "opcxHHF6J6m5",
        "outputId": "a7860fd5-38e2-4199-f6f6-2c4a86e1f91d"
      },
      "source": [
        "Trans_col = \"Transaction\"\n",
        "Value_col = \"Quantity\"\n",
        "Agg_Col_Lbl = \"Global_Wind_Generation [Kilowatt-hours, million]\"\n",
        "global_Wind = data_aggr(total_wind_filt_df, Trans_col,Value_col, Agg_Col_Lbl)\n",
        "global_Wind_All = global_Wind.iloc[0,1]\n",
        "global_Wind"
      ],
      "execution_count": null,
      "outputs": [
        {
          "output_type": "execute_result",
          "data": {
            "text/html": [
              "<div>\n",
              "<style scoped>\n",
              "    .dataframe tbody tr th:only-of-type {\n",
              "        vertical-align: middle;\n",
              "    }\n",
              "\n",
              "    .dataframe tbody tr th {\n",
              "        vertical-align: top;\n",
              "    }\n",
              "\n",
              "    .dataframe thead th {\n",
              "        text-align: right;\n",
              "    }\n",
              "</style>\n",
              "<table border=\"1\" class=\"dataframe\">\n",
              "  <thead>\n",
              "    <tr style=\"text-align: right;\">\n",
              "      <th></th>\n",
              "      <th>Transaction</th>\n",
              "      <th>Global_Generation [Kilowatt-hours, million]</th>\n",
              "    </tr>\n",
              "  </thead>\n",
              "  <tbody>\n",
              "    <tr>\n",
              "      <th>0</th>\n",
              "      <td>Electricity - total wind production</td>\n",
              "      <td>1.272283e+06</td>\n",
              "    </tr>\n",
              "  </tbody>\n",
              "</table>\n",
              "</div>"
            ],
            "text/plain": [
              "                           Transaction  Global_Generation [Kilowatt-hours, million]\n",
              "0  Electricity - total wind production                                 1.272283e+06"
            ]
          },
          "metadata": {},
          "execution_count": 95
        }
      ]
    },
    {
      "cell_type": "markdown",
      "metadata": {
        "id": "R9_xhiRnBNuu"
      },
      "source": [
        "#### From Hydro:"
      ]
    },
    {
      "cell_type": "code",
      "metadata": {
        "colab": {
          "base_uri": "https://localhost:8080/",
          "height": 80
        },
        "id": "1CES55N9BQSY",
        "outputId": "b5310e4b-510c-468c-e84c-1460b687c3bf"
      },
      "source": [
        "total_hydro_df = pd.read_csv(elec_gen_pths[0])\n",
        "total_hydro_df.head(1)"
      ],
      "execution_count": null,
      "outputs": [
        {
          "output_type": "execute_result",
          "data": {
            "text/html": [
              "<div>\n",
              "<style scoped>\n",
              "    .dataframe tbody tr th:only-of-type {\n",
              "        vertical-align: middle;\n",
              "    }\n",
              "\n",
              "    .dataframe tbody tr th {\n",
              "        vertical-align: top;\n",
              "    }\n",
              "\n",
              "    .dataframe thead th {\n",
              "        text-align: right;\n",
              "    }\n",
              "</style>\n",
              "<table border=\"1\" class=\"dataframe\">\n",
              "  <thead>\n",
              "    <tr style=\"text-align: right;\">\n",
              "      <th></th>\n",
              "      <th>Country or Area</th>\n",
              "      <th>Commodity - Transaction</th>\n",
              "      <th>Year</th>\n",
              "      <th>Unit</th>\n",
              "      <th>Quantity</th>\n",
              "      <th>Quantity Footnotes</th>\n",
              "    </tr>\n",
              "  </thead>\n",
              "  <tbody>\n",
              "    <tr>\n",
              "      <th>0</th>\n",
              "      <td>Afghanistan</td>\n",
              "      <td>Electricity - total hydro production</td>\n",
              "      <td>2019.0</td>\n",
              "      <td>Kilowatt-hours, million</td>\n",
              "      <td>1388.04</td>\n",
              "      <td>NaN</td>\n",
              "    </tr>\n",
              "  </tbody>\n",
              "</table>\n",
              "</div>"
            ],
            "text/plain": [
              "  Country or Area  ... Quantity Footnotes\n",
              "0     Afghanistan  ...                NaN\n",
              "\n",
              "[1 rows x 6 columns]"
            ]
          },
          "metadata": {},
          "execution_count": 52
        }
      ]
    },
    {
      "cell_type": "code",
      "metadata": {
        "colab": {
          "base_uri": "https://localhost:8080/",
          "height": 148
        },
        "id": "aRn1S79KPvkO",
        "outputId": "ccf4b7b7-eadc-4897-eef9-a88bc471a6ab"
      },
      "source": [
        "Trans_lbl = \"Electricity - total hydro production\"\n",
        "total_hydro_filt_df = data_filter(total_hydro_df, 2018, Trans_lbl)\n",
        "total_hydro_filt_df.head(1)"
      ],
      "execution_count": null,
      "outputs": [
        {
          "output_type": "stream",
          "name": "stdout",
          "text": [
            "Initial List of transactions in Dataframe:\n",
            " Electricity - total hydro production\n",
            "Estimate\n",
            "Footnote\n"
          ]
        },
        {
          "output_type": "execute_result",
          "data": {
            "text/html": [
              "<div>\n",
              "<style scoped>\n",
              "    .dataframe tbody tr th:only-of-type {\n",
              "        vertical-align: middle;\n",
              "    }\n",
              "\n",
              "    .dataframe tbody tr th {\n",
              "        vertical-align: top;\n",
              "    }\n",
              "\n",
              "    .dataframe thead th {\n",
              "        text-align: right;\n",
              "    }\n",
              "</style>\n",
              "<table border=\"1\" class=\"dataframe\">\n",
              "  <thead>\n",
              "    <tr style=\"text-align: right;\">\n",
              "      <th></th>\n",
              "      <th>Country</th>\n",
              "      <th>Transaction</th>\n",
              "      <th>Year</th>\n",
              "      <th>Unit</th>\n",
              "      <th>Quantity</th>\n",
              "      <th>Footnotes</th>\n",
              "    </tr>\n",
              "  </thead>\n",
              "  <tbody>\n",
              "    <tr>\n",
              "      <th>1</th>\n",
              "      <td>Afghanistan</td>\n",
              "      <td>Electricity - total hydro production</td>\n",
              "      <td>2018.0</td>\n",
              "      <td>Kilowatt-hours, million</td>\n",
              "      <td>1065.79</td>\n",
              "      <td>NaN</td>\n",
              "    </tr>\n",
              "  </tbody>\n",
              "</table>\n",
              "</div>"
            ],
            "text/plain": [
              "       Country                           Transaction  ...  Quantity Footnotes\n",
              "1  Afghanistan  Electricity - total hydro production  ...   1065.79       NaN\n",
              "\n",
              "[1 rows x 6 columns]"
            ]
          },
          "metadata": {},
          "execution_count": 54
        }
      ]
    },
    {
      "cell_type": "code",
      "metadata": {
        "colab": {
          "base_uri": "https://localhost:8080/",
          "height": 80
        },
        "id": "x8X1sWxlQIrI",
        "outputId": "5d3e25d4-7240-4d85-f93c-0e95d742e2be"
      },
      "source": [
        "Trans_col = \"Transaction\"\n",
        "Value_col = \"Quantity\"\n",
        "Agg_Col_Lbl = \"Global_Hydro_Generation [Kilowatt-hours, million]\"\n",
        "global_Hydro = data_aggr(total_hydro_filt_df, Trans_col,Value_col, Agg_Col_Lbl)\n",
        "global_Hydro_All = global_Hydro.iloc[0,1]\n",
        "global_Hydro"
      ],
      "execution_count": null,
      "outputs": [
        {
          "output_type": "execute_result",
          "data": {
            "text/html": [
              "<div>\n",
              "<style scoped>\n",
              "    .dataframe tbody tr th:only-of-type {\n",
              "        vertical-align: middle;\n",
              "    }\n",
              "\n",
              "    .dataframe tbody tr th {\n",
              "        vertical-align: top;\n",
              "    }\n",
              "\n",
              "    .dataframe thead th {\n",
              "        text-align: right;\n",
              "    }\n",
              "</style>\n",
              "<table border=\"1\" class=\"dataframe\">\n",
              "  <thead>\n",
              "    <tr style=\"text-align: right;\">\n",
              "      <th></th>\n",
              "      <th>Transaction</th>\n",
              "      <th>Global_Generation [Kilowatt-hours, million]</th>\n",
              "    </tr>\n",
              "  </thead>\n",
              "  <tbody>\n",
              "    <tr>\n",
              "      <th>0</th>\n",
              "      <td>Electricity - total hydro production</td>\n",
              "      <td>4.305553e+06</td>\n",
              "    </tr>\n",
              "  </tbody>\n",
              "</table>\n",
              "</div>"
            ],
            "text/plain": [
              "                            Transaction  Global_Generation [Kilowatt-hours, million]\n",
              "0  Electricity - total hydro production                                 4.305553e+06"
            ]
          },
          "metadata": {},
          "execution_count": 98
        }
      ]
    },
    {
      "cell_type": "markdown",
      "metadata": {
        "id": "S9XZ1QApAtss"
      },
      "source": [
        "### Q1.D Global Electricity Generation From Nuclear Plants"
      ]
    },
    {
      "cell_type": "code",
      "metadata": {
        "colab": {
          "base_uri": "https://localhost:8080/",
          "height": 80
        },
        "id": "QK0pP1_9QXUO",
        "outputId": "a6de795b-9d7c-4d31-ac2c-e73f36e40295"
      },
      "source": [
        "total_nuclear_df = pd.read_csv(elec_gen_pths[1])\n",
        "total_nuclear_df.head(1)"
      ],
      "execution_count": null,
      "outputs": [
        {
          "output_type": "execute_result",
          "data": {
            "text/html": [
              "<div>\n",
              "<style scoped>\n",
              "    .dataframe tbody tr th:only-of-type {\n",
              "        vertical-align: middle;\n",
              "    }\n",
              "\n",
              "    .dataframe tbody tr th {\n",
              "        vertical-align: top;\n",
              "    }\n",
              "\n",
              "    .dataframe thead th {\n",
              "        text-align: right;\n",
              "    }\n",
              "</style>\n",
              "<table border=\"1\" class=\"dataframe\">\n",
              "  <thead>\n",
              "    <tr style=\"text-align: right;\">\n",
              "      <th></th>\n",
              "      <th>Country or Area</th>\n",
              "      <th>Commodity - Transaction</th>\n",
              "      <th>Year</th>\n",
              "      <th>Unit</th>\n",
              "      <th>Quantity</th>\n",
              "      <th>Quantity Footnotes</th>\n",
              "    </tr>\n",
              "  </thead>\n",
              "  <tbody>\n",
              "    <tr>\n",
              "      <th>0</th>\n",
              "      <td>Argentina</td>\n",
              "      <td>Electricity - total nuclear production</td>\n",
              "      <td>2019.0</td>\n",
              "      <td>Kilowatt-hours, million</td>\n",
              "      <td>7927.0</td>\n",
              "      <td>NaN</td>\n",
              "    </tr>\n",
              "  </tbody>\n",
              "</table>\n",
              "</div>"
            ],
            "text/plain": [
              "  Country or Area  ... Quantity Footnotes\n",
              "0       Argentina  ...                NaN\n",
              "\n",
              "[1 rows x 6 columns]"
            ]
          },
          "metadata": {},
          "execution_count": 56
        }
      ]
    },
    {
      "cell_type": "code",
      "metadata": {
        "colab": {
          "base_uri": "https://localhost:8080/",
          "height": 148
        },
        "id": "9A14aak_Qzao",
        "outputId": "aca8c1df-cea4-4fa1-ec69-6fb9199e09ce"
      },
      "source": [
        "Trans_lbl = \"Electricity - total nuclear production\"\n",
        "total_nuclear_filt_df = data_filter(total_nuclear_df, 2018, Trans_lbl)\n",
        "total_nuclear_filt_df.head(1)"
      ],
      "execution_count": null,
      "outputs": [
        {
          "output_type": "stream",
          "name": "stdout",
          "text": [
            "Initial List of transactions in Dataframe:\n",
            " Electricity - total nuclear production\n",
            "Estimate\n",
            "Footnote\n"
          ]
        },
        {
          "output_type": "execute_result",
          "data": {
            "text/html": [
              "<div>\n",
              "<style scoped>\n",
              "    .dataframe tbody tr th:only-of-type {\n",
              "        vertical-align: middle;\n",
              "    }\n",
              "\n",
              "    .dataframe tbody tr th {\n",
              "        vertical-align: top;\n",
              "    }\n",
              "\n",
              "    .dataframe thead th {\n",
              "        text-align: right;\n",
              "    }\n",
              "</style>\n",
              "<table border=\"1\" class=\"dataframe\">\n",
              "  <thead>\n",
              "    <tr style=\"text-align: right;\">\n",
              "      <th></th>\n",
              "      <th>Country</th>\n",
              "      <th>Transaction</th>\n",
              "      <th>Year</th>\n",
              "      <th>Unit</th>\n",
              "      <th>Quantity</th>\n",
              "      <th>Footnotes</th>\n",
              "    </tr>\n",
              "  </thead>\n",
              "  <tbody>\n",
              "    <tr>\n",
              "      <th>1</th>\n",
              "      <td>Argentina</td>\n",
              "      <td>Electricity - total nuclear production</td>\n",
              "      <td>2018.0</td>\n",
              "      <td>Kilowatt-hours, million</td>\n",
              "      <td>6453.0</td>\n",
              "      <td>NaN</td>\n",
              "    </tr>\n",
              "  </tbody>\n",
              "</table>\n",
              "</div>"
            ],
            "text/plain": [
              "     Country                             Transaction  ...  Quantity Footnotes\n",
              "1  Argentina  Electricity - total nuclear production  ...    6453.0       NaN\n",
              "\n",
              "[1 rows x 6 columns]"
            ]
          },
          "metadata": {},
          "execution_count": 58
        }
      ]
    },
    {
      "cell_type": "code",
      "metadata": {
        "colab": {
          "base_uri": "https://localhost:8080/",
          "height": 80
        },
        "id": "oYKC-nGWRA3k",
        "outputId": "f0135f41-9fd2-460c-cf2a-672f9041be93"
      },
      "source": [
        "Trans_col = \"Transaction\"\n",
        "Value_col = \"Quantity\"\n",
        "Agg_Col_Lbl = \"Global_Nuclear_Generation [Kilowatt-hours, million]\"\n",
        "global_Nuclear = data_aggr(total_nuclear_filt_df, Trans_col,Value_col, Agg_Col_Lbl)\n",
        "global_Nuclear_All = global_Nuclear.iloc[0,1]\n",
        "global_Nuclear"
      ],
      "execution_count": null,
      "outputs": [
        {
          "output_type": "execute_result",
          "data": {
            "text/html": [
              "<div>\n",
              "<style scoped>\n",
              "    .dataframe tbody tr th:only-of-type {\n",
              "        vertical-align: middle;\n",
              "    }\n",
              "\n",
              "    .dataframe tbody tr th {\n",
              "        vertical-align: top;\n",
              "    }\n",
              "\n",
              "    .dataframe thead th {\n",
              "        text-align: right;\n",
              "    }\n",
              "</style>\n",
              "<table border=\"1\" class=\"dataframe\">\n",
              "  <thead>\n",
              "    <tr style=\"text-align: right;\">\n",
              "      <th></th>\n",
              "      <th>Transaction</th>\n",
              "      <th>Global_Generation [Kilowatt-hours, million]</th>\n",
              "    </tr>\n",
              "  </thead>\n",
              "  <tbody>\n",
              "    <tr>\n",
              "      <th>0</th>\n",
              "      <td>Electricity - total nuclear production</td>\n",
              "      <td>2708655.22</td>\n",
              "    </tr>\n",
              "  </tbody>\n",
              "</table>\n",
              "</div>"
            ],
            "text/plain": [
              "                              Transaction  Global_Generation [Kilowatt-hours, million]\n",
              "0  Electricity - total nuclear production                                   2708655.22"
            ]
          },
          "metadata": {},
          "execution_count": 101
        }
      ]
    },
    {
      "cell_type": "markdown",
      "metadata": {
        "id": "lgVUTUZqAg_E"
      },
      "source": [
        "### Q1.E Global Electricity Generation from Thermal Sources"
      ]
    },
    {
      "cell_type": "markdown",
      "metadata": {
        "id": "ZjBBFGeK7ZGC"
      },
      "source": [
        "Now let's calculate electricity generation from energy sources that burn such as biofuels, gas, coal and oil fuels."
      ]
    },
    {
      "cell_type": "code",
      "metadata": {
        "colab": {
          "base_uri": "https://localhost:8080/",
          "height": 437
        },
        "id": "13SvyQMQ4VHY",
        "outputId": "a4f23fa7-6438-443d-f224-f5ba4595ce62"
      },
      "source": [
        "thermal_df = pd.read_csv(elec_gen_pths[3])\n",
        "thermal_df = thermal_df.rename({'Country or Area': 'Country', 'Commodity - Transaction': 'Transaction', 'Quantity Footnotes':'Footnotes'}, axis=1)  \n",
        "trans_lst = thermal_df.Transaction.unique().tolist()\n",
        "print(\"List of transactions in Dataframe:\\n\",\"\\n\".join(trans_lst))\n",
        "thermal_df.head(1)"
      ],
      "execution_count": null,
      "outputs": [
        {
          "output_type": "stream",
          "name": "stdout",
          "text": [
            "List of transactions in Dataframe:\n",
            " Electricity - total thermal production\n",
            "Electricity production from hard coal\n",
            "Electricity production from gas oil/ diesel oil\n",
            "Electricity production from fuel oil\n",
            "Electricity production from oil shale\n",
            "Electricity production from other oil products\n",
            "Electricity production from natural gas\n",
            "Electricity production from non-renewable waste\n",
            "Electricity production from renewable municipal waste\n",
            "Electricity production from bagasse\n",
            "Electricity production from solid biofuels\n",
            "Electricity production from liquid biofuels\n",
            "Electricity production from manufactured gases\n",
            "Electricity production from biogases\n",
            "Electricity production from solid coal products\n",
            "Electricity production from brown coal\n",
            "Electricity production from peat\n",
            "Electricity production from crude oil, NGLs, other hydrocarbons\n",
            "Footnote\n",
            "Estimate\n"
          ]
        },
        {
          "output_type": "execute_result",
          "data": {
            "text/html": [
              "<div>\n",
              "<style scoped>\n",
              "    .dataframe tbody tr th:only-of-type {\n",
              "        vertical-align: middle;\n",
              "    }\n",
              "\n",
              "    .dataframe tbody tr th {\n",
              "        vertical-align: top;\n",
              "    }\n",
              "\n",
              "    .dataframe thead th {\n",
              "        text-align: right;\n",
              "    }\n",
              "</style>\n",
              "<table border=\"1\" class=\"dataframe\">\n",
              "  <thead>\n",
              "    <tr style=\"text-align: right;\">\n",
              "      <th></th>\n",
              "      <th>Country</th>\n",
              "      <th>Transaction</th>\n",
              "      <th>Year</th>\n",
              "      <th>Unit</th>\n",
              "      <th>Quantity</th>\n",
              "      <th>Footnotes</th>\n",
              "    </tr>\n",
              "  </thead>\n",
              "  <tbody>\n",
              "    <tr>\n",
              "      <th>0</th>\n",
              "      <td>Afghanistan</td>\n",
              "      <td>Electricity - total thermal production</td>\n",
              "      <td>2019.0</td>\n",
              "      <td>Kilowatt-hours, million</td>\n",
              "      <td>182.69</td>\n",
              "      <td>NaN</td>\n",
              "    </tr>\n",
              "  </tbody>\n",
              "</table>\n",
              "</div>"
            ],
            "text/plain": [
              "       Country                             Transaction  ...  Quantity Footnotes\n",
              "0  Afghanistan  Electricity - total thermal production  ...    182.69       NaN\n",
              "\n",
              "[1 rows x 6 columns]"
            ]
          },
          "metadata": {},
          "execution_count": 61
        }
      ]
    },
    {
      "cell_type": "markdown",
      "metadata": {
        "id": "9FuXjFmsSTd1"
      },
      "source": [
        "#### From Biofuels:"
      ]
    },
    {
      "cell_type": "markdown",
      "metadata": {
        "id": "eg6ZaWetSrm2"
      },
      "source": [
        "There is more than one transaction label dealing with biofuels. Below we filter out non bio labels and keep only records form 2018:"
      ]
    },
    {
      "cell_type": "code",
      "metadata": {
        "colab": {
          "base_uri": "https://localhost:8080/",
          "height": 272
        },
        "id": "1pirxtrfIyNk",
        "outputId": "be15daeb-b230-478f-929a-d82a6b39445a"
      },
      "source": [
        "keywords = [\"bio\"]\n",
        "thermal_bio_df = thermal_df.copy()\n",
        "thermal_bio_df = thermal_bio_df[thermal_bio_df.stack().str.contains('|'.join(keywords),case=False).any(level=0)]\n",
        "trans_lst = thermal_bio_df.Transaction.unique().tolist()\n",
        "print(\"List of transactions in Dataframe:\\n\",\"\\n\".join(trans_lst))\n",
        "thermal_bio_df = thermal_bio_df[(thermal_bio_df.Year == 2018)]\n",
        "thermal_bio_df.head(5)"
      ],
      "execution_count": null,
      "outputs": [
        {
          "output_type": "stream",
          "name": "stdout",
          "text": [
            "List of transactions in Dataframe:\n",
            " Electricity production from solid biofuels\n",
            "Electricity production from liquid biofuels\n",
            "Electricity production from biogases\n"
          ]
        },
        {
          "output_type": "execute_result",
          "data": {
            "text/html": [
              "<div>\n",
              "<style scoped>\n",
              "    .dataframe tbody tr th:only-of-type {\n",
              "        vertical-align: middle;\n",
              "    }\n",
              "\n",
              "    .dataframe tbody tr th {\n",
              "        vertical-align: top;\n",
              "    }\n",
              "\n",
              "    .dataframe thead th {\n",
              "        text-align: right;\n",
              "    }\n",
              "</style>\n",
              "<table border=\"1\" class=\"dataframe\">\n",
              "  <thead>\n",
              "    <tr style=\"text-align: right;\">\n",
              "      <th></th>\n",
              "      <th>Country</th>\n",
              "      <th>Transaction</th>\n",
              "      <th>Year</th>\n",
              "      <th>Unit</th>\n",
              "      <th>Quantity</th>\n",
              "      <th>Footnotes</th>\n",
              "    </tr>\n",
              "  </thead>\n",
              "  <tbody>\n",
              "    <tr>\n",
              "      <th>424</th>\n",
              "      <td>Angola</td>\n",
              "      <td>Electricity production from solid biofuels</td>\n",
              "      <td>2018.0</td>\n",
              "      <td>Kilowatt-hours, million</td>\n",
              "      <td>200.0</td>\n",
              "      <td>NaN</td>\n",
              "    </tr>\n",
              "    <tr>\n",
              "      <th>654</th>\n",
              "      <td>Argentina</td>\n",
              "      <td>Electricity production from liquid biofuels</td>\n",
              "      <td>2018.0</td>\n",
              "      <td>Kilowatt-hours, million</td>\n",
              "      <td>0.0</td>\n",
              "      <td>NaN</td>\n",
              "    </tr>\n",
              "    <tr>\n",
              "      <th>758</th>\n",
              "      <td>Argentina</td>\n",
              "      <td>Electricity production from solid biofuels</td>\n",
              "      <td>2018.0</td>\n",
              "      <td>Kilowatt-hours, million</td>\n",
              "      <td>2158.0</td>\n",
              "      <td>1.0</td>\n",
              "    </tr>\n",
              "    <tr>\n",
              "      <th>937</th>\n",
              "      <td>Australia</td>\n",
              "      <td>Electricity production from biogases</td>\n",
              "      <td>2018.0</td>\n",
              "      <td>Kilowatt-hours, million</td>\n",
              "      <td>1254.0</td>\n",
              "      <td>NaN</td>\n",
              "    </tr>\n",
              "    <tr>\n",
              "      <th>1179</th>\n",
              "      <td>Australia</td>\n",
              "      <td>Electricity production from solid biofuels</td>\n",
              "      <td>2018.0</td>\n",
              "      <td>Kilowatt-hours, million</td>\n",
              "      <td>2264.0</td>\n",
              "      <td>NaN</td>\n",
              "    </tr>\n",
              "  </tbody>\n",
              "</table>\n",
              "</div>"
            ],
            "text/plain": [
              "        Country  ... Footnotes\n",
              "424      Angola  ...       NaN\n",
              "654   Argentina  ...       NaN\n",
              "758   Argentina  ...       1.0\n",
              "937   Australia  ...       NaN\n",
              "1179  Australia  ...       NaN\n",
              "\n",
              "[5 rows x 6 columns]"
            ]
          },
          "metadata": {},
          "execution_count": 68
        }
      ]
    },
    {
      "cell_type": "code",
      "metadata": {
        "colab": {
          "base_uri": "https://localhost:8080/",
          "height": 142
        },
        "id": "ulTLHjB8UF2t",
        "outputId": "72e5d567-7bcd-4108-e5d5-27117fd859bb"
      },
      "source": [
        "Trans_col = \"Transaction\"\n",
        "Value_col = \"Quantity\"\n",
        "Agg_Col_Lbl = \"Global_Biofuels_Generation [Kilowatt-hours, million]\"\n",
        "global_Bio = data_aggr(thermal_bio_df, Trans_col,Value_col, Agg_Col_Lbl)\n",
        "global_Bio"
      ],
      "execution_count": null,
      "outputs": [
        {
          "output_type": "execute_result",
          "data": {
            "text/html": [
              "<div>\n",
              "<style scoped>\n",
              "    .dataframe tbody tr th:only-of-type {\n",
              "        vertical-align: middle;\n",
              "    }\n",
              "\n",
              "    .dataframe tbody tr th {\n",
              "        vertical-align: top;\n",
              "    }\n",
              "\n",
              "    .dataframe thead th {\n",
              "        text-align: right;\n",
              "    }\n",
              "</style>\n",
              "<table border=\"1\" class=\"dataframe\">\n",
              "  <thead>\n",
              "    <tr style=\"text-align: right;\">\n",
              "      <th></th>\n",
              "      <th>Transaction</th>\n",
              "      <th>Global_Generation [Kilowatt-hours, million]</th>\n",
              "    </tr>\n",
              "  </thead>\n",
              "  <tbody>\n",
              "    <tr>\n",
              "      <th>0</th>\n",
              "      <td>Electricity production from biogases</td>\n",
              "      <td>86993.432000</td>\n",
              "    </tr>\n",
              "    <tr>\n",
              "      <th>1</th>\n",
              "      <td>Electricity production from liquid biofuels</td>\n",
              "      <td>7309.928000</td>\n",
              "    </tr>\n",
              "    <tr>\n",
              "      <th>2</th>\n",
              "      <td>Electricity production from solid biofuels</td>\n",
              "      <td>365073.197346</td>\n",
              "    </tr>\n",
              "  </tbody>\n",
              "</table>\n",
              "</div>"
            ],
            "text/plain": [
              "                                   Transaction  Global_Generation [Kilowatt-hours, million]\n",
              "0         Electricity production from biogases                                 86993.432000\n",
              "1  Electricity production from liquid biofuels                                  7309.928000\n",
              "2   Electricity production from solid biofuels                                365073.197346"
            ]
          },
          "metadata": {},
          "execution_count": 73
        }
      ]
    },
    {
      "cell_type": "code",
      "metadata": {
        "colab": {
          "base_uri": "https://localhost:8080/"
        },
        "id": "Q0GtrSsUUYng",
        "outputId": "c27daeac-be5f-428d-8662-cfd0d86439c6"
      },
      "source": [
        "global_Bio_All = global_Bio[\"Global_Generation [Kilowatt-hours, million]\"].sum()\n",
        "print(\"The total global generation from biofuels is:\",round(global_Bio_All,2), \"[Kilowatt-hours, million]\")"
      ],
      "execution_count": null,
      "outputs": [
        {
          "output_type": "stream",
          "name": "stdout",
          "text": [
            "The total global generation from biofuels is: 459376.56 [Kilowatt-hours, million]\n"
          ]
        }
      ]
    },
    {
      "cell_type": "markdown",
      "metadata": {
        "id": "Yjc2HHoFVuXJ"
      },
      "source": [
        "#### From Coal:"
      ]
    },
    {
      "cell_type": "code",
      "metadata": {
        "colab": {
          "base_uri": "https://localhost:8080/",
          "height": 272
        },
        "id": "VVn7CTdCVydJ",
        "outputId": "d11fb566-6b59-43c3-d59f-03a1225ad90e"
      },
      "source": [
        "keywords = [\"coal\"]\n",
        "thermal_coal_df = thermal_df.copy()\n",
        "thermal_coal_df = thermal_coal_df[thermal_coal_df.stack().str.contains('|'.join(keywords),case=False).any(level=0)]\n",
        "trans_lst = thermal_coal_df.Transaction.unique().tolist()\n",
        "print(\"List of transactions in Dataframe:\\n\",\"\\n\".join(trans_lst))\n",
        "thermal_coal_df = thermal_coal_df[(thermal_coal_df.Year == 2018)]\n",
        "thermal_coal_df.head(5)"
      ],
      "execution_count": null,
      "outputs": [
        {
          "output_type": "stream",
          "name": "stdout",
          "text": [
            "List of transactions in Dataframe:\n",
            " Electricity production from hard coal\n",
            "Electricity production from solid coal products\n",
            "Electricity production from brown coal\n"
          ]
        },
        {
          "output_type": "execute_result",
          "data": {
            "text/html": [
              "<div>\n",
              "<style scoped>\n",
              "    .dataframe tbody tr th:only-of-type {\n",
              "        vertical-align: middle;\n",
              "    }\n",
              "\n",
              "    .dataframe tbody tr th {\n",
              "        vertical-align: top;\n",
              "    }\n",
              "\n",
              "    .dataframe thead th {\n",
              "        text-align: right;\n",
              "    }\n",
              "</style>\n",
              "<table border=\"1\" class=\"dataframe\">\n",
              "  <thead>\n",
              "    <tr style=\"text-align: right;\">\n",
              "      <th></th>\n",
              "      <th>Country</th>\n",
              "      <th>Transaction</th>\n",
              "      <th>Year</th>\n",
              "      <th>Unit</th>\n",
              "      <th>Quantity</th>\n",
              "      <th>Footnotes</th>\n",
              "    </tr>\n",
              "  </thead>\n",
              "  <tbody>\n",
              "    <tr>\n",
              "      <th>31</th>\n",
              "      <td>Afghanistan</td>\n",
              "      <td>Electricity production from hard coal</td>\n",
              "      <td>2018.0</td>\n",
              "      <td>Kilowatt-hours, million</td>\n",
              "      <td>118.93</td>\n",
              "      <td>1.0</td>\n",
              "    </tr>\n",
              "    <tr>\n",
              "      <th>617</th>\n",
              "      <td>Argentina</td>\n",
              "      <td>Electricity production from hard coal</td>\n",
              "      <td>2018.0</td>\n",
              "      <td>Kilowatt-hours, million</td>\n",
              "      <td>2357.00</td>\n",
              "      <td>1.0</td>\n",
              "    </tr>\n",
              "    <tr>\n",
              "      <th>962</th>\n",
              "      <td>Australia</td>\n",
              "      <td>Electricity production from hard coal</td>\n",
              "      <td>2018.0</td>\n",
              "      <td>Kilowatt-hours, million</td>\n",
              "      <td>71284.00</td>\n",
              "      <td>NaN</td>\n",
              "    </tr>\n",
              "    <tr>\n",
              "      <th>991</th>\n",
              "      <td>Australia</td>\n",
              "      <td>Electricity production from solid coal products</td>\n",
              "      <td>2018.0</td>\n",
              "      <td>Kilowatt-hours, million</td>\n",
              "      <td>0.00</td>\n",
              "      <td>NaN</td>\n",
              "    </tr>\n",
              "    <tr>\n",
              "      <th>1051</th>\n",
              "      <td>Australia</td>\n",
              "      <td>Electricity production from brown coal</td>\n",
              "      <td>2018.0</td>\n",
              "      <td>Kilowatt-hours, million</td>\n",
              "      <td>86427.00</td>\n",
              "      <td>NaN</td>\n",
              "    </tr>\n",
              "  </tbody>\n",
              "</table>\n",
              "</div>"
            ],
            "text/plain": [
              "          Country  ... Footnotes\n",
              "31    Afghanistan  ...       1.0\n",
              "617     Argentina  ...       1.0\n",
              "962     Australia  ...       NaN\n",
              "991     Australia  ...       NaN\n",
              "1051    Australia  ...       NaN\n",
              "\n",
              "[5 rows x 6 columns]"
            ]
          },
          "metadata": {},
          "execution_count": 79
        }
      ]
    },
    {
      "cell_type": "code",
      "metadata": {
        "colab": {
          "base_uri": "https://localhost:8080/",
          "height": 142
        },
        "id": "HtnxGHhWWNr4",
        "outputId": "00d4bbca-d2f1-472a-c673-e17f5afd0dbe"
      },
      "source": [
        "Trans_col = \"Transaction\"\n",
        "Value_col = \"Quantity\"\n",
        "Agg_Col_Lbl = \"Global_Coal_Generation [Kilowatt-hours, million]\"\n",
        "global_Coal = data_aggr(thermal_coal_df, Trans_col,Value_col, Agg_Col_Lbl)\n",
        "global_Coal"
      ],
      "execution_count": null,
      "outputs": [
        {
          "output_type": "execute_result",
          "data": {
            "text/html": [
              "<div>\n",
              "<style scoped>\n",
              "    .dataframe tbody tr th:only-of-type {\n",
              "        vertical-align: middle;\n",
              "    }\n",
              "\n",
              "    .dataframe tbody tr th {\n",
              "        vertical-align: top;\n",
              "    }\n",
              "\n",
              "    .dataframe thead th {\n",
              "        text-align: right;\n",
              "    }\n",
              "</style>\n",
              "<table border=\"1\" class=\"dataframe\">\n",
              "  <thead>\n",
              "    <tr style=\"text-align: right;\">\n",
              "      <th></th>\n",
              "      <th>Transaction</th>\n",
              "      <th>Global_Generation [Kilowatt-hours, million]</th>\n",
              "    </tr>\n",
              "  </thead>\n",
              "  <tbody>\n",
              "    <tr>\n",
              "      <th>0</th>\n",
              "      <td>Electricity production from brown coal</td>\n",
              "      <td>1.522527e+06</td>\n",
              "    </tr>\n",
              "    <tr>\n",
              "      <th>1</th>\n",
              "      <td>Electricity production from hard coal</td>\n",
              "      <td>8.420063e+06</td>\n",
              "    </tr>\n",
              "    <tr>\n",
              "      <th>2</th>\n",
              "      <td>Electricity production from solid coal products</td>\n",
              "      <td>2.280014e+03</td>\n",
              "    </tr>\n",
              "  </tbody>\n",
              "</table>\n",
              "</div>"
            ],
            "text/plain": [
              "                                       Transaction  Global_Generation [Kilowatt-hours, million]\n",
              "0           Electricity production from brown coal                                 1.522527e+06\n",
              "1            Electricity production from hard coal                                 8.420063e+06\n",
              "2  Electricity production from solid coal products                                 2.280014e+03"
            ]
          },
          "metadata": {},
          "execution_count": 81
        }
      ]
    },
    {
      "cell_type": "code",
      "metadata": {
        "colab": {
          "base_uri": "https://localhost:8080/"
        },
        "id": "QxC-Gsy5WvwA",
        "outputId": "3ce285fc-75af-413d-fc23-b6bd045003e8"
      },
      "source": [
        "global_Coal_All = global_Coal[\"Global_Generation [Kilowatt-hours, million]\"].sum()\n",
        "print(\"The total global generation from coal is:\",round(global_Coal_All,2), \"[Kilowatt-hours, million]\")"
      ],
      "execution_count": null,
      "outputs": [
        {
          "output_type": "stream",
          "name": "stdout",
          "text": [
            "The total global generation from coal is: 9944870.4 [Kilowatt-hours, million]\n"
          ]
        }
      ]
    },
    {
      "cell_type": "markdown",
      "metadata": {
        "id": "pVHSYKsgXC2r"
      },
      "source": [
        "#### From Natural Gas:"
      ]
    },
    {
      "cell_type": "code",
      "metadata": {
        "colab": {
          "base_uri": "https://localhost:8080/",
          "height": 238
        },
        "id": "Sf67ESYsXPth",
        "outputId": "f7596503-0769-4600-aa83-61a5ca3bad14"
      },
      "source": [
        "keywords = [\"natural gas\"]\n",
        "thermal_NG_df = thermal_df.copy()\n",
        "thermal_NG_df = thermal_NG_df[thermal_NG_df.stack().str.contains('|'.join(keywords),case=False).any(level=0)]\n",
        "trans_lst = thermal_NG_df.Transaction.unique().tolist()\n",
        "print(\"List of transactions in Dataframe:\\n\",\"\\n\".join(trans_lst))\n",
        "thermal_NG_df = thermal_NG_df[(thermal_NG_df.Year == 2018)]\n",
        "thermal_NG_df.head(5)"
      ],
      "execution_count": null,
      "outputs": [
        {
          "output_type": "stream",
          "name": "stdout",
          "text": [
            "List of transactions in Dataframe:\n",
            " Electricity production from natural gas\n"
          ]
        },
        {
          "output_type": "execute_result",
          "data": {
            "text/html": [
              "<div>\n",
              "<style scoped>\n",
              "    .dataframe tbody tr th:only-of-type {\n",
              "        vertical-align: middle;\n",
              "    }\n",
              "\n",
              "    .dataframe tbody tr th {\n",
              "        vertical-align: top;\n",
              "    }\n",
              "\n",
              "    .dataframe thead th {\n",
              "        text-align: right;\n",
              "    }\n",
              "</style>\n",
              "<table border=\"1\" class=\"dataframe\">\n",
              "  <thead>\n",
              "    <tr style=\"text-align: right;\">\n",
              "      <th></th>\n",
              "      <th>Country</th>\n",
              "      <th>Transaction</th>\n",
              "      <th>Year</th>\n",
              "      <th>Unit</th>\n",
              "      <th>Quantity</th>\n",
              "      <th>Footnotes</th>\n",
              "    </tr>\n",
              "  </thead>\n",
              "  <tbody>\n",
              "    <tr>\n",
              "      <th>223</th>\n",
              "      <td>Algeria</td>\n",
              "      <td>Electricity production from natural gas</td>\n",
              "      <td>2018.0</td>\n",
              "      <td>Kilowatt-hours, million</td>\n",
              "      <td>74894.000</td>\n",
              "      <td>1.0</td>\n",
              "    </tr>\n",
              "    <tr>\n",
              "      <th>691</th>\n",
              "      <td>Argentina</td>\n",
              "      <td>Electricity production from natural gas</td>\n",
              "      <td>2018.0</td>\n",
              "      <td>Kilowatt-hours, million</td>\n",
              "      <td>90162.000</td>\n",
              "      <td>1.0</td>\n",
              "    </tr>\n",
              "    <tr>\n",
              "      <th>814</th>\n",
              "      <td>Armenia</td>\n",
              "      <td>Electricity production from natural gas</td>\n",
              "      <td>2018.0</td>\n",
              "      <td>Kilowatt-hours, million</td>\n",
              "      <td>3375.598</td>\n",
              "      <td>NaN</td>\n",
              "    </tr>\n",
              "    <tr>\n",
              "      <th>1108</th>\n",
              "      <td>Australia</td>\n",
              "      <td>Electricity production from natural gas</td>\n",
              "      <td>2018.0</td>\n",
              "      <td>Kilowatt-hours, million</td>\n",
              "      <td>53817.000</td>\n",
              "      <td>NaN</td>\n",
              "    </tr>\n",
              "    <tr>\n",
              "      <th>1409</th>\n",
              "      <td>Austria</td>\n",
              "      <td>Electricity production from natural gas</td>\n",
              "      <td>2018.0</td>\n",
              "      <td>Kilowatt-hours, million</td>\n",
              "      <td>9918.000</td>\n",
              "      <td>NaN</td>\n",
              "    </tr>\n",
              "  </tbody>\n",
              "</table>\n",
              "</div>"
            ],
            "text/plain": [
              "        Country                              Transaction  ...   Quantity Footnotes\n",
              "223     Algeria  Electricity production from natural gas  ...  74894.000       1.0\n",
              "691   Argentina  Electricity production from natural gas  ...  90162.000       1.0\n",
              "814     Armenia  Electricity production from natural gas  ...   3375.598       NaN\n",
              "1108  Australia  Electricity production from natural gas  ...  53817.000       NaN\n",
              "1409    Austria  Electricity production from natural gas  ...   9918.000       NaN\n",
              "\n",
              "[5 rows x 6 columns]"
            ]
          },
          "metadata": {},
          "execution_count": 83
        }
      ]
    },
    {
      "cell_type": "code",
      "metadata": {
        "colab": {
          "base_uri": "https://localhost:8080/",
          "height": 80
        },
        "id": "opfCcgWzXdIA",
        "outputId": "731999ad-af05-4c99-f212-edda3a99a56c"
      },
      "source": [
        "Trans_col = \"Transaction\"\n",
        "Value_col = \"Quantity\"\n",
        "Agg_Col_Lbl = \"Global_Coal_Generation [Kilowatt-hours, million]\"\n",
        "global_NG = data_aggr(thermal_NG_df, Trans_col,Value_col, Agg_Col_Lbl)\n",
        "global_NG_All = global_NG.iloc[0,1]\n",
        "global_NG"
      ],
      "execution_count": null,
      "outputs": [
        {
          "output_type": "execute_result",
          "data": {
            "text/html": [
              "<div>\n",
              "<style scoped>\n",
              "    .dataframe tbody tr th:only-of-type {\n",
              "        vertical-align: middle;\n",
              "    }\n",
              "\n",
              "    .dataframe tbody tr th {\n",
              "        vertical-align: top;\n",
              "    }\n",
              "\n",
              "    .dataframe thead th {\n",
              "        text-align: right;\n",
              "    }\n",
              "</style>\n",
              "<table border=\"1\" class=\"dataframe\">\n",
              "  <thead>\n",
              "    <tr style=\"text-align: right;\">\n",
              "      <th></th>\n",
              "      <th>Transaction</th>\n",
              "      <th>Global_Generation [Kilowatt-hours, million]</th>\n",
              "    </tr>\n",
              "  </thead>\n",
              "  <tbody>\n",
              "    <tr>\n",
              "      <th>0</th>\n",
              "      <td>Electricity production from natural gas</td>\n",
              "      <td>6.164953e+06</td>\n",
              "    </tr>\n",
              "  </tbody>\n",
              "</table>\n",
              "</div>"
            ],
            "text/plain": [
              "                               Transaction  Global_Generation [Kilowatt-hours, million]\n",
              "0  Electricity production from natural gas                                 6.164953e+06"
            ]
          },
          "metadata": {},
          "execution_count": 89
        }
      ]
    },
    {
      "cell_type": "markdown",
      "metadata": {
        "id": "I4Kn2zZgXvEe"
      },
      "source": [
        "#### From Oil:"
      ]
    },
    {
      "cell_type": "code",
      "metadata": {
        "colab": {
          "base_uri": "https://localhost:8080/",
          "height": 306
        },
        "id": "gN_h3geoX1DY",
        "outputId": "b0265d06-b77c-42f8-8788-b3cc78d715fd"
      },
      "source": [
        "keywords = [\"oil\"]\n",
        "thermal_oil_df = thermal_df.copy()\n",
        "thermal_oil_df = thermal_oil_df[thermal_oil_df.stack().str.contains('|'.join(keywords),case=False).any(level=0)]\n",
        "trans_lst = thermal_oil_df.Transaction.unique().tolist()\n",
        "print(\"List of transactions in Dataframe:\\n\",\"\\n\".join(trans_lst))\n",
        "thermal_oil_df = thermal_oil_df[(thermal_oil_df.Year == 2018)]\n",
        "thermal_oil_df.head(5)"
      ],
      "execution_count": null,
      "outputs": [
        {
          "output_type": "stream",
          "name": "stdout",
          "text": [
            "List of transactions in Dataframe:\n",
            " Electricity production from gas oil/ diesel oil\n",
            "Electricity production from fuel oil\n",
            "Electricity production from oil shale\n",
            "Electricity production from other oil products\n",
            "Electricity production from crude oil, NGLs, other hydrocarbons\n"
          ]
        },
        {
          "output_type": "execute_result",
          "data": {
            "text/html": [
              "<div>\n",
              "<style scoped>\n",
              "    .dataframe tbody tr th:only-of-type {\n",
              "        vertical-align: middle;\n",
              "    }\n",
              "\n",
              "    .dataframe tbody tr th {\n",
              "        vertical-align: top;\n",
              "    }\n",
              "\n",
              "    .dataframe thead th {\n",
              "        text-align: right;\n",
              "    }\n",
              "</style>\n",
              "<table border=\"1\" class=\"dataframe\">\n",
              "  <thead>\n",
              "    <tr style=\"text-align: right;\">\n",
              "      <th></th>\n",
              "      <th>Country</th>\n",
              "      <th>Transaction</th>\n",
              "      <th>Year</th>\n",
              "      <th>Unit</th>\n",
              "      <th>Quantity</th>\n",
              "      <th>Footnotes</th>\n",
              "    </tr>\n",
              "  </thead>\n",
              "  <tbody>\n",
              "    <tr>\n",
              "      <th>53</th>\n",
              "      <td>Afghanistan</td>\n",
              "      <td>Electricity production from gas oil/ diesel oil</td>\n",
              "      <td>2018.0</td>\n",
              "      <td>Kilowatt-hours, million</td>\n",
              "      <td>78.0</td>\n",
              "      <td>1.0</td>\n",
              "    </tr>\n",
              "    <tr>\n",
              "      <th>83</th>\n",
              "      <td>Afghanistan</td>\n",
              "      <td>Electricity production from fuel oil</td>\n",
              "      <td>2018.0</td>\n",
              "      <td>Kilowatt-hours, million</td>\n",
              "      <td>3.0</td>\n",
              "      <td>1.0</td>\n",
              "    </tr>\n",
              "    <tr>\n",
              "      <th>194</th>\n",
              "      <td>Algeria</td>\n",
              "      <td>Electricity production from gas oil/ diesel oil</td>\n",
              "      <td>2018.0</td>\n",
              "      <td>Kilowatt-hours, million</td>\n",
              "      <td>986.0</td>\n",
              "      <td>1.0</td>\n",
              "    </tr>\n",
              "    <tr>\n",
              "      <th>283</th>\n",
              "      <td>American Samoa</td>\n",
              "      <td>Electricity production from gas oil/ diesel oil</td>\n",
              "      <td>2018.0</td>\n",
              "      <td>Kilowatt-hours, million</td>\n",
              "      <td>163.2</td>\n",
              "      <td>1.0</td>\n",
              "    </tr>\n",
              "    <tr>\n",
              "      <th>395</th>\n",
              "      <td>Angola</td>\n",
              "      <td>Electricity production from other oil products</td>\n",
              "      <td>2018.0</td>\n",
              "      <td>Kilowatt-hours, million</td>\n",
              "      <td>2801.0</td>\n",
              "      <td>NaN</td>\n",
              "    </tr>\n",
              "  </tbody>\n",
              "</table>\n",
              "</div>"
            ],
            "text/plain": [
              "            Country  ... Footnotes\n",
              "53      Afghanistan  ...       1.0\n",
              "83      Afghanistan  ...       1.0\n",
              "194         Algeria  ...       1.0\n",
              "283  American Samoa  ...       1.0\n",
              "395          Angola  ...       NaN\n",
              "\n",
              "[5 rows x 6 columns]"
            ]
          },
          "metadata": {},
          "execution_count": 85
        }
      ]
    },
    {
      "cell_type": "code",
      "metadata": {
        "colab": {
          "base_uri": "https://localhost:8080/",
          "height": 204
        },
        "id": "Wya49BwxYbTI",
        "outputId": "2f70057e-56e5-4530-9d8e-589a2860c22f"
      },
      "source": [
        "Trans_col = \"Transaction\"\n",
        "Value_col = \"Quantity\"\n",
        "Agg_Col_Lbl = \"Global_Oil_Generation [Kilowatt-hours, million]\"\n",
        "global_Oil = data_aggr(thermal_oil_df, Trans_col,Value_col, Agg_Col_Lbl)\n",
        "global_Oil"
      ],
      "execution_count": null,
      "outputs": [
        {
          "output_type": "execute_result",
          "data": {
            "text/html": [
              "<div>\n",
              "<style scoped>\n",
              "    .dataframe tbody tr th:only-of-type {\n",
              "        vertical-align: middle;\n",
              "    }\n",
              "\n",
              "    .dataframe tbody tr th {\n",
              "        vertical-align: top;\n",
              "    }\n",
              "\n",
              "    .dataframe thead th {\n",
              "        text-align: right;\n",
              "    }\n",
              "</style>\n",
              "<table border=\"1\" class=\"dataframe\">\n",
              "  <thead>\n",
              "    <tr style=\"text-align: right;\">\n",
              "      <th></th>\n",
              "      <th>Transaction</th>\n",
              "      <th>Global_Generation [Kilowatt-hours, million]</th>\n",
              "    </tr>\n",
              "  </thead>\n",
              "  <tbody>\n",
              "    <tr>\n",
              "      <th>0</th>\n",
              "      <td>Electricity production from crude oil, NGLs, o...</td>\n",
              "      <td>67400.321847</td>\n",
              "    </tr>\n",
              "    <tr>\n",
              "      <th>1</th>\n",
              "      <td>Electricity production from fuel oil</td>\n",
              "      <td>301855.786647</td>\n",
              "    </tr>\n",
              "    <tr>\n",
              "      <th>2</th>\n",
              "      <td>Electricity production from gas oil/ diesel oil</td>\n",
              "      <td>186207.536522</td>\n",
              "    </tr>\n",
              "    <tr>\n",
              "      <th>3</th>\n",
              "      <td>Electricity production from oil shale</td>\n",
              "      <td>9424.000000</td>\n",
              "    </tr>\n",
              "    <tr>\n",
              "      <th>4</th>\n",
              "      <td>Electricity production from other oil products</td>\n",
              "      <td>184697.033445</td>\n",
              "    </tr>\n",
              "  </tbody>\n",
              "</table>\n",
              "</div>"
            ],
            "text/plain": [
              "                                         Transaction  Global_Generation [Kilowatt-hours, million]\n",
              "0  Electricity production from crude oil, NGLs, o...                                 67400.321847\n",
              "1               Electricity production from fuel oil                                301855.786647\n",
              "2    Electricity production from gas oil/ diesel oil                                186207.536522\n",
              "3              Electricity production from oil shale                                  9424.000000\n",
              "4     Electricity production from other oil products                                184697.033445"
            ]
          },
          "metadata": {},
          "execution_count": 86
        }
      ]
    },
    {
      "cell_type": "code",
      "metadata": {
        "colab": {
          "base_uri": "https://localhost:8080/"
        },
        "id": "-ChYL-TpZcG-",
        "outputId": "2defedfe-8954-4fad-adcd-f25cfd0be8a4"
      },
      "source": [
        "global_Oil_All = global_Oil[\"Global_Generation [Kilowatt-hours, million]\"].sum()\n",
        "print(\"The total global generation from Oil is:\",round(global_Oil_All,2), \"[Kilowatt-hours, million]\")"
      ],
      "execution_count": null,
      "outputs": [
        {
          "output_type": "stream",
          "name": "stdout",
          "text": [
            "The total global generation from Oil is: 749584.68 [Kilowatt-hours, million]\n"
          ]
        }
      ]
    },
    {
      "cell_type": "markdown",
      "metadata": {
        "id": "auZ_ekc9aDeM"
      },
      "source": [
        "### Q1.F Global Generation Percentage Per Type of Generator in 2018"
      ]
    },
    {
      "cell_type": "code",
      "metadata": {
        "colab": {
          "base_uri": "https://localhost:8080/",
          "height": 297
        },
        "id": "3MEDXx4fee2F",
        "outputId": "91810d74-ca42-4e25-fa37-011c9968b777"
      },
      "source": [
        "generator_quant = [global_Solar_All, global_Wind_All, global_Hydro_All, global_Nuclear_All, global_Bio_All, global_Coal_All, global_NG_All, global_Oil_All]\n",
        "generator_name = [\"Solar\", \"Wind\", \"Hydro\", \"Nuclear\", \"Biofuels\", \"Coal\", \"Natural_Gas\", \"Oil\"]\n",
        "Percent_gen_df = pd.DataFrame(list(zip(generator_name, generator_quant)),\n",
        "               columns =['Generator_Name', 'Generation[Kilowatt-hours, million]'])\n",
        "Percent_gen_df[\"Global_Percentange\"] = round(100 * Percent_gen_df[\"Generation[Kilowatt-hours, million]\"]/global_EG_All, 2)\n",
        "Percent_gen_df.sort_values(by=['Global_Percentange'])"
      ],
      "execution_count": null,
      "outputs": [
        {
          "output_type": "execute_result",
          "data": {
            "text/html": [
              "<div>\n",
              "<style scoped>\n",
              "    .dataframe tbody tr th:only-of-type {\n",
              "        vertical-align: middle;\n",
              "    }\n",
              "\n",
              "    .dataframe tbody tr th {\n",
              "        vertical-align: top;\n",
              "    }\n",
              "\n",
              "    .dataframe thead th {\n",
              "        text-align: right;\n",
              "    }\n",
              "</style>\n",
              "<table border=\"1\" class=\"dataframe\">\n",
              "  <thead>\n",
              "    <tr style=\"text-align: right;\">\n",
              "      <th></th>\n",
              "      <th>Generator_Name</th>\n",
              "      <th>Generation[Kilowatt-hours, million]</th>\n",
              "      <th>Global_Percentange</th>\n",
              "    </tr>\n",
              "  </thead>\n",
              "  <tbody>\n",
              "    <tr>\n",
              "      <th>4</th>\n",
              "      <td>Biofuels</td>\n",
              "      <td>4.593766e+05</td>\n",
              "      <td>2.82</td>\n",
              "    </tr>\n",
              "    <tr>\n",
              "      <th>0</th>\n",
              "      <td>Solar</td>\n",
              "      <td>5.650673e+05</td>\n",
              "      <td>3.47</td>\n",
              "    </tr>\n",
              "    <tr>\n",
              "      <th>7</th>\n",
              "      <td>Oil</td>\n",
              "      <td>7.495847e+05</td>\n",
              "      <td>4.60</td>\n",
              "    </tr>\n",
              "    <tr>\n",
              "      <th>1</th>\n",
              "      <td>Wind</td>\n",
              "      <td>1.272283e+06</td>\n",
              "      <td>7.80</td>\n",
              "    </tr>\n",
              "    <tr>\n",
              "      <th>3</th>\n",
              "      <td>Nuclear</td>\n",
              "      <td>2.708655e+06</td>\n",
              "      <td>16.61</td>\n",
              "    </tr>\n",
              "    <tr>\n",
              "      <th>2</th>\n",
              "      <td>Hydro</td>\n",
              "      <td>4.305553e+06</td>\n",
              "      <td>26.41</td>\n",
              "    </tr>\n",
              "    <tr>\n",
              "      <th>6</th>\n",
              "      <td>Natural_Gas</td>\n",
              "      <td>6.164953e+06</td>\n",
              "      <td>37.81</td>\n",
              "    </tr>\n",
              "    <tr>\n",
              "      <th>5</th>\n",
              "      <td>Coal</td>\n",
              "      <td>9.944870e+06</td>\n",
              "      <td>60.99</td>\n",
              "    </tr>\n",
              "  </tbody>\n",
              "</table>\n",
              "</div>"
            ],
            "text/plain": [
              "  Generator_Name  Generation[Kilowatt-hours, million]  Global_Percentange\n",
              "4       Biofuels                         4.593766e+05                2.82\n",
              "0          Solar                         5.650673e+05                3.47\n",
              "7            Oil                         7.495847e+05                4.60\n",
              "1           Wind                         1.272283e+06                7.80\n",
              "3        Nuclear                         2.708655e+06               16.61\n",
              "2          Hydro                         4.305553e+06               26.41\n",
              "6    Natural_Gas                         6.164953e+06               37.81\n",
              "5           Coal                         9.944870e+06               60.99"
            ]
          },
          "metadata": {},
          "execution_count": 122
        }
      ]
    },
    {
      "cell_type": "code",
      "metadata": {
        "colab": {
          "base_uri": "https://localhost:8080/"
        },
        "id": "RbiUWj5Gu3xp",
        "outputId": "171285bd-3524-4a28-8070-3dcb0aea1c01"
      },
      "source": [
        "global_Percent_Sum = Percent_gen_df[\"Global_Percentange\"].sum()\n",
        "print(\"The calculated per-generator global generation percenrages add up to:\",round(global_Percent_Sum,2))"
      ],
      "execution_count": null,
      "outputs": [
        {
          "output_type": "stream",
          "name": "stdout",
          "text": [
            "The calculated per-generator global generation percenrages add up to: 160.51\n"
          ]
        }
      ]
    },
    {
      "cell_type": "markdown",
      "metadata": {
        "id": "9g_uCh9ov2yl"
      },
      "source": [
        "The calculated Global percentage contribution to electricity are wrong. Is not possible to the 8 types of generation [\"Solar\", \"Wind\", \"Hydro\", \"Nuclear\", \"Biofuels\", \"Coal\", \"Natural_Gas\", \"Oil\"] contribute jointly to more than 160% of electricity generation. "
      ]
    },
    {
      "cell_type": "code",
      "metadata": {
        "colab": {
          "base_uri": "https://localhost:8080/",
          "height": 297
        },
        "id": "AcXCXdUQvX4G",
        "outputId": "ae56925f-1b35-4dd1-dc53-7f156915f0f9"
      },
      "source": [
        "Gen_per_type_sum = Percent_gen_df[\"Generation[Kilowatt-hours, million]\"].sum()\n",
        "Percent_gen_df[\"Adjusted_Global_Percentage\"] = round(100 * Percent_gen_df[\"Generation[Kilowatt-hours, million]\"]/Gen_per_type_sum, 2)\n",
        "Percent_gen_df.sort_values(by=['Adjusted_Global_Percentage'])"
      ],
      "execution_count": null,
      "outputs": [
        {
          "output_type": "execute_result",
          "data": {
            "text/html": [
              "<div>\n",
              "<style scoped>\n",
              "    .dataframe tbody tr th:only-of-type {\n",
              "        vertical-align: middle;\n",
              "    }\n",
              "\n",
              "    .dataframe tbody tr th {\n",
              "        vertical-align: top;\n",
              "    }\n",
              "\n",
              "    .dataframe thead th {\n",
              "        text-align: right;\n",
              "    }\n",
              "</style>\n",
              "<table border=\"1\" class=\"dataframe\">\n",
              "  <thead>\n",
              "    <tr style=\"text-align: right;\">\n",
              "      <th></th>\n",
              "      <th>Generator_Name</th>\n",
              "      <th>Generation[Kilowatt-hours, million]</th>\n",
              "      <th>Global_Percentange</th>\n",
              "      <th>Adjusted_Global_Percentage</th>\n",
              "    </tr>\n",
              "  </thead>\n",
              "  <tbody>\n",
              "    <tr>\n",
              "      <th>4</th>\n",
              "      <td>Biofuels</td>\n",
              "      <td>4.593766e+05</td>\n",
              "      <td>2.82</td>\n",
              "      <td>1.76</td>\n",
              "    </tr>\n",
              "    <tr>\n",
              "      <th>0</th>\n",
              "      <td>Solar</td>\n",
              "      <td>5.650673e+05</td>\n",
              "      <td>3.47</td>\n",
              "      <td>2.16</td>\n",
              "    </tr>\n",
              "    <tr>\n",
              "      <th>7</th>\n",
              "      <td>Oil</td>\n",
              "      <td>7.495847e+05</td>\n",
              "      <td>4.60</td>\n",
              "      <td>2.86</td>\n",
              "    </tr>\n",
              "    <tr>\n",
              "      <th>1</th>\n",
              "      <td>Wind</td>\n",
              "      <td>1.272283e+06</td>\n",
              "      <td>7.80</td>\n",
              "      <td>4.86</td>\n",
              "    </tr>\n",
              "    <tr>\n",
              "      <th>3</th>\n",
              "      <td>Nuclear</td>\n",
              "      <td>2.708655e+06</td>\n",
              "      <td>16.61</td>\n",
              "      <td>10.35</td>\n",
              "    </tr>\n",
              "    <tr>\n",
              "      <th>2</th>\n",
              "      <td>Hydro</td>\n",
              "      <td>4.305553e+06</td>\n",
              "      <td>26.41</td>\n",
              "      <td>16.45</td>\n",
              "    </tr>\n",
              "    <tr>\n",
              "      <th>6</th>\n",
              "      <td>Natural_Gas</td>\n",
              "      <td>6.164953e+06</td>\n",
              "      <td>37.81</td>\n",
              "      <td>23.56</td>\n",
              "    </tr>\n",
              "    <tr>\n",
              "      <th>5</th>\n",
              "      <td>Coal</td>\n",
              "      <td>9.944870e+06</td>\n",
              "      <td>60.99</td>\n",
              "      <td>38.00</td>\n",
              "    </tr>\n",
              "  </tbody>\n",
              "</table>\n",
              "</div>"
            ],
            "text/plain": [
              "  Generator_Name  ...  Adjusted_Global_Percentage\n",
              "4       Biofuels  ...                        1.76\n",
              "0          Solar  ...                        2.16\n",
              "7            Oil  ...                        2.86\n",
              "1           Wind  ...                        4.86\n",
              "3        Nuclear  ...                       10.35\n",
              "2          Hydro  ...                       16.45\n",
              "6    Natural_Gas  ...                       23.56\n",
              "5           Coal  ...                       38.00\n",
              "\n",
              "[8 rows x 4 columns]"
            ]
          },
          "metadata": {},
          "execution_count": 126
        }
      ]
    },
    {
      "cell_type": "markdown",
      "metadata": {
        "id": "qZYSSDvoWAcJ"
      },
      "source": [
        "## Q2: For the decade spanning 2008-2018, what was the worldwide energy consumption by the following sectors - households, industry, transport, agriculture, and commercial / public services?"
      ]
    },
    {
      "cell_type": "markdown",
      "metadata": {
        "id": "zY9mLsAE9Q_e"
      },
      "source": [
        "### Q2.A Filtering Electricity Generation Data"
      ]
    },
    {
      "cell_type": "code",
      "metadata": {
        "colab": {
          "base_uri": "https://localhost:8080/"
        },
        "id": "eEFE4_x8NwsA",
        "outputId": "87d1a5cb-de39-4962-d6b1-a26bc01b19bf"
      },
      "source": [
        "UNdata_pth = '/content/drive/MyDrive/Datasets/Sidewalk_Lab/UNdata_Export_TotalElectricity.csv'\n",
        "analysis_df = pd.read_csv(UNdata_pth) #gpd.read_file(file_name)\n",
        "analysis_df = analysis_df.rename({'Country or Area': 'Country', 'Commodity - Transaction': 'Transaction', 'Quantity Footnotes':'Footnotes'}, axis=1)  \n",
        "year_list = [*range(2008, 2019, 1)]\n",
        "year_list"
      ],
      "execution_count": null,
      "outputs": [
        {
          "output_type": "execute_result",
          "data": {
            "text/plain": [
              "[2008, 2009, 2010, 2011, 2012, 2013, 2014, 2015, 2016, 2017, 2018]"
            ]
          },
          "metadata": {},
          "execution_count": 129
        }
      ]
    },
    {
      "cell_type": "code",
      "metadata": {
        "colab": {
          "base_uri": "https://localhost:8080/"
        },
        "id": "4d5ufb2pWDLQ",
        "outputId": "07eb75f5-172f-4016-e60d-8560626cd1f8"
      },
      "source": [
        "Q2_df = analysis_df.copy()\n",
        "Q2_df = Q2_df[Q2_df['Year'].isin(year_list)] #Filtering to only years in between 2008 to 2018 including.\n",
        "Q2_df = Q2_df[Q2_df['Transaction'].str.contains(\"Consumption\")] #Filtering df to only \"Consumption\" related records\n",
        "Q2_df.Transaction.unique()"
      ],
      "execution_count": null,
      "outputs": [
        {
          "output_type": "execute_result",
          "data": {
            "text/plain": [
              "array(['Electricity - Consumption by manufacturing, construction and non-fuel industry',\n",
              "       'Electricity - Consumption by other manuf., const. and non-fuel ind.',\n",
              "       'Electricity - Consumption not elsewhere specified (industry)',\n",
              "       'Electricity - Consumption by other',\n",
              "       'Electricity - Consumption by households',\n",
              "       'Electricity - Consumption in agriculture, forestry and fishing',\n",
              "       'Electricity - Consumption not elsewhere specified (other)',\n",
              "       'Electricity - Consumption by commercial and public services',\n",
              "       'Electricity - Consumption by iron and steel',\n",
              "       'Electricity - Consumption by chemical and petrochemical',\n",
              "       'Electricity - Consumption by non-ferrous metals',\n",
              "       'Electricity - Consumption by non-metallic minerals',\n",
              "       'Electricity - Consumption by mining and quarrying',\n",
              "       'Electricity - Consumption by food and tobacco',\n",
              "       'Electricity - Consumption by paper, pulp and print',\n",
              "       'Electricity - Consumption by wood and wood products',\n",
              "       'Electricity - Consumption by construction',\n",
              "       'Electricity - Consumption by textile and leather',\n",
              "       'Electricity - Consumption by transport',\n",
              "       'Electricity - Consumption by rail',\n",
              "       'Electricity - Consumption by pipeline transport',\n",
              "       'Electricity - Consumption by transport equipment',\n",
              "       'Electricity - Consumption by machinery',\n",
              "       'Electricity - Consumption by road',\n",
              "       'Electricity - Consumption not elsewhere specified (transport)'],\n",
              "      dtype=object)"
            ]
          },
          "metadata": {},
          "execution_count": 130
        }
      ]
    },
    {
      "cell_type": "code",
      "metadata": {
        "colab": {
          "base_uri": "https://localhost:8080/"
        },
        "id": "EkQx875kMBFz",
        "outputId": "de9be67d-30c6-4a92-b6b6-e6dfc74cecab"
      },
      "source": [
        "#households, industry, transport, agriculture, and commercial / public services\n",
        "Q2_df_filtered = Q2_df.copy()\n",
        "keywords = ['households', 'industry', 'transport', 'agriculture',  'commercial']\n",
        "#test = test.Transaction.str.contains(\"households|industry\")\n",
        "#test = Q2_df[Q2_df['Transaction'].str.contains(\"households\"|\"transport\")]\n",
        "Q2_df_filtered = Q2_df_filtered[Q2_df_filtered.stack().str.contains('|'.join(keywords)).any(level=0)]\n",
        "Q2_df_filtered.Transaction.unique()\n",
        "#https://medium.com/analytics-vidhya/filter-pandas-dataframe-rows-by-a-list-of-strings-e95c225822fa"
      ],
      "execution_count": null,
      "outputs": [
        {
          "output_type": "execute_result",
          "data": {
            "text/plain": [
              "array(['Electricity - Consumption by manufacturing, construction and non-fuel industry',\n",
              "       'Electricity - Consumption not elsewhere specified (industry)',\n",
              "       'Electricity - Consumption by households',\n",
              "       'Electricity - Consumption in agriculture, forestry and fishing',\n",
              "       'Electricity - Consumption by commercial and public services',\n",
              "       'Electricity - Consumption by transport',\n",
              "       'Electricity - Consumption by pipeline transport',\n",
              "       'Electricity - Consumption by transport equipment',\n",
              "       'Electricity - Consumption not elsewhere specified (transport)'],\n",
              "      dtype=object)"
            ]
          },
          "metadata": {},
          "execution_count": 132
        }
      ]
    },
    {
      "cell_type": "code",
      "metadata": {
        "colab": {
          "base_uri": "https://localhost:8080/",
          "height": 419
        },
        "id": "QMSqZPJUP-z3",
        "outputId": "47fa3503-9f7f-44a9-e23f-bebbd1a39af9"
      },
      "source": [
        "Q2_agg = Q2_df_filtered.copy()\n",
        "Q2_agg = Q2_agg.groupby([\"Transaction\",\"Year\"], as_index=False).agg({'Quantity':['sum']})\n",
        "Q2_agg.columns = list(map(''.join, Q2_agg.columns.values))\n",
        "Q2_agg = Q2_agg.rename({'Quantitysum': 'Global_Value'}, axis=1) \n",
        "Q2_agg['Global_Value'] = round(Q2_agg['Global_Value'],0)\n",
        "Q2_agg['Transaction'] = Q2_agg['Transaction'].str.replace(r'Electricity - Consumption', '')\n",
        "Q2_agg = Q2_agg.rename({'Transaction': 'Consumption:'}, axis=1)  \n",
        "Q2_agg"
      ],
      "execution_count": null,
      "outputs": [
        {
          "output_type": "execute_result",
          "data": {
            "text/html": [
              "<div>\n",
              "<style scoped>\n",
              "    .dataframe tbody tr th:only-of-type {\n",
              "        vertical-align: middle;\n",
              "    }\n",
              "\n",
              "    .dataframe tbody tr th {\n",
              "        vertical-align: top;\n",
              "    }\n",
              "\n",
              "    .dataframe thead th {\n",
              "        text-align: right;\n",
              "    }\n",
              "</style>\n",
              "<table border=\"1\" class=\"dataframe\">\n",
              "  <thead>\n",
              "    <tr style=\"text-align: right;\">\n",
              "      <th></th>\n",
              "      <th>Consumption:</th>\n",
              "      <th>Year</th>\n",
              "      <th>Global_Value</th>\n",
              "    </tr>\n",
              "  </thead>\n",
              "  <tbody>\n",
              "    <tr>\n",
              "      <th>0</th>\n",
              "      <td>by commercial and public services</td>\n",
              "      <td>2008.0</td>\n",
              "      <td>1553260.0</td>\n",
              "    </tr>\n",
              "    <tr>\n",
              "      <th>1</th>\n",
              "      <td>by commercial and public services</td>\n",
              "      <td>2009.0</td>\n",
              "      <td>1626037.0</td>\n",
              "    </tr>\n",
              "    <tr>\n",
              "      <th>2</th>\n",
              "      <td>by commercial and public services</td>\n",
              "      <td>2010.0</td>\n",
              "      <td>1682331.0</td>\n",
              "    </tr>\n",
              "    <tr>\n",
              "      <th>3</th>\n",
              "      <td>by commercial and public services</td>\n",
              "      <td>2011.0</td>\n",
              "      <td>1677218.0</td>\n",
              "    </tr>\n",
              "    <tr>\n",
              "      <th>4</th>\n",
              "      <td>by commercial and public services</td>\n",
              "      <td>2012.0</td>\n",
              "      <td>1694860.0</td>\n",
              "    </tr>\n",
              "    <tr>\n",
              "      <th>...</th>\n",
              "      <td>...</td>\n",
              "      <td>...</td>\n",
              "      <td>...</td>\n",
              "    </tr>\n",
              "    <tr>\n",
              "      <th>94</th>\n",
              "      <td>not elsewhere specified (transport)</td>\n",
              "      <td>2014.0</td>\n",
              "      <td>30628.0</td>\n",
              "    </tr>\n",
              "    <tr>\n",
              "      <th>95</th>\n",
              "      <td>not elsewhere specified (transport)</td>\n",
              "      <td>2015.0</td>\n",
              "      <td>33141.0</td>\n",
              "    </tr>\n",
              "    <tr>\n",
              "      <th>96</th>\n",
              "      <td>not elsewhere specified (transport)</td>\n",
              "      <td>2016.0</td>\n",
              "      <td>35038.0</td>\n",
              "    </tr>\n",
              "    <tr>\n",
              "      <th>97</th>\n",
              "      <td>not elsewhere specified (transport)</td>\n",
              "      <td>2017.0</td>\n",
              "      <td>38300.0</td>\n",
              "    </tr>\n",
              "    <tr>\n",
              "      <th>98</th>\n",
              "      <td>not elsewhere specified (transport)</td>\n",
              "      <td>2018.0</td>\n",
              "      <td>39770.0</td>\n",
              "    </tr>\n",
              "  </tbody>\n",
              "</table>\n",
              "<p>99 rows × 3 columns</p>\n",
              "</div>"
            ],
            "text/plain": [
              "                            Consumption:    Year  Global_Value\n",
              "0      by commercial and public services  2008.0     1553260.0\n",
              "1      by commercial and public services  2009.0     1626037.0\n",
              "2      by commercial and public services  2010.0     1682331.0\n",
              "3      by commercial and public services  2011.0     1677218.0\n",
              "4      by commercial and public services  2012.0     1694860.0\n",
              "..                                   ...     ...           ...\n",
              "94   not elsewhere specified (transport)  2014.0       30628.0\n",
              "95   not elsewhere specified (transport)  2015.0       33141.0\n",
              "96   not elsewhere specified (transport)  2016.0       35038.0\n",
              "97   not elsewhere specified (transport)  2017.0       38300.0\n",
              "98   not elsewhere specified (transport)  2018.0       39770.0\n",
              "\n",
              "[99 rows x 3 columns]"
            ]
          },
          "metadata": {},
          "execution_count": 167
        }
      ]
    },
    {
      "cell_type": "markdown",
      "metadata": {
        "id": "HyjytIds9sWe"
      },
      "source": [
        "### Q2.B Scatter Plot"
      ]
    },
    {
      "cell_type": "code",
      "metadata": {
        "colab": {
          "base_uri": "https://localhost:8080/",
          "height": 481
        },
        "id": "SDUMYYF1QlyH",
        "outputId": "76e7bb97-8f6f-41ba-cc82-716fdb98f0df"
      },
      "source": [
        "source = Q2_agg\n",
        "\n",
        "alt.Chart(source).mark_circle(size=60).encode(\n",
        "    x='Year:O',\n",
        "    y='Global_Value:Q',\n",
        "    color='Consumption:',\n",
        "    tooltip=['Consumption:', 'Year', 'Global_Value']\n",
        "    \n",
        ").interactive().properties(\n",
        "    width=600,\n",
        "    height=400\n",
        ")"
      ],
      "execution_count": null,
      "outputs": [
        {
          "output_type": "execute_result",
          "data": {
            "text/plain": [
              "alt.Chart(...)"
            ],
            "text/html": [
              "\n",
              "<div id=\"altair-viz-b6dc485e0ca844e28caa82f70e5a1220\"></div>\n",
              "<script type=\"text/javascript\">\n",
              "  (function(spec, embedOpt){\n",
              "    let outputDiv = document.currentScript.previousElementSibling;\n",
              "    if (outputDiv.id !== \"altair-viz-b6dc485e0ca844e28caa82f70e5a1220\") {\n",
              "      outputDiv = document.getElementById(\"altair-viz-b6dc485e0ca844e28caa82f70e5a1220\");\n",
              "    }\n",
              "    const paths = {\n",
              "      \"vega\": \"https://cdn.jsdelivr.net/npm//vega@5?noext\",\n",
              "      \"vega-lib\": \"https://cdn.jsdelivr.net/npm//vega-lib?noext\",\n",
              "      \"vega-lite\": \"https://cdn.jsdelivr.net/npm//vega-lite@4.8.1?noext\",\n",
              "      \"vega-embed\": \"https://cdn.jsdelivr.net/npm//vega-embed@6?noext\",\n",
              "    };\n",
              "\n",
              "    function loadScript(lib) {\n",
              "      return new Promise(function(resolve, reject) {\n",
              "        var s = document.createElement('script');\n",
              "        s.src = paths[lib];\n",
              "        s.async = true;\n",
              "        s.onload = () => resolve(paths[lib]);\n",
              "        s.onerror = () => reject(`Error loading script: ${paths[lib]}`);\n",
              "        document.getElementsByTagName(\"head\")[0].appendChild(s);\n",
              "      });\n",
              "    }\n",
              "\n",
              "    function showError(err) {\n",
              "      outputDiv.innerHTML = `<div class=\"error\" style=\"color:red;\">${err}</div>`;\n",
              "      throw err;\n",
              "    }\n",
              "\n",
              "    function displayChart(vegaEmbed) {\n",
              "      vegaEmbed(outputDiv, spec, embedOpt)\n",
              "        .catch(err => showError(`Javascript Error: ${err.message}<br>This usually means there's a typo in your chart specification. See the javascript console for the full traceback.`));\n",
              "    }\n",
              "\n",
              "    if(typeof define === \"function\" && define.amd) {\n",
              "      requirejs.config({paths});\n",
              "      require([\"vega-embed\"], displayChart, err => showError(`Error loading script: ${err.message}`));\n",
              "    } else if (typeof vegaEmbed === \"function\") {\n",
              "      displayChart(vegaEmbed);\n",
              "    } else {\n",
              "      loadScript(\"vega\")\n",
              "        .then(() => loadScript(\"vega-lite\"))\n",
              "        .then(() => loadScript(\"vega-embed\"))\n",
              "        .catch(showError)\n",
              "        .then(() => displayChart(vegaEmbed));\n",
              "    }\n",
              "  })({\"config\": {\"view\": {\"continuousWidth\": 400, \"continuousHeight\": 300}}, \"data\": {\"name\": \"data-8036395cc9663c54dc900c4c1a428bb2\"}, \"mark\": {\"type\": \"circle\", \"size\": 60}, \"encoding\": {\"color\": {\"type\": \"nominal\", \"field\": \"Consumption:\"}, \"tooltip\": [{\"type\": \"nominal\", \"field\": \"Consumption:\"}, {\"type\": \"quantitative\", \"field\": \"Year\"}, {\"type\": \"quantitative\", \"field\": \"Global_Value\"}], \"x\": {\"type\": \"ordinal\", \"field\": \"Year\"}, \"y\": {\"type\": \"quantitative\", \"field\": \"Global_Value\"}}, \"height\": 400, \"selection\": {\"selector006\": {\"type\": \"interval\", \"bind\": \"scales\", \"encodings\": [\"x\", \"y\"]}}, \"width\": 600, \"$schema\": \"https://vega.github.io/schema/vega-lite/v4.8.1.json\", \"datasets\": {\"data-8036395cc9663c54dc900c4c1a428bb2\": [{\"Consumption:\": \" by commercial and public services\", \"Year\": 2008.0, \"Global_Value\": 1553260.0}, {\"Consumption:\": \" by commercial and public services\", \"Year\": 2009.0, \"Global_Value\": 1626037.0}, {\"Consumption:\": \" by commercial and public services\", \"Year\": 2010.0, \"Global_Value\": 1682331.0}, {\"Consumption:\": \" by commercial and public services\", \"Year\": 2011.0, \"Global_Value\": 1677218.0}, {\"Consumption:\": \" by commercial and public services\", \"Year\": 2012.0, \"Global_Value\": 1694860.0}, {\"Consumption:\": \" by commercial and public services\", \"Year\": 2013.0, \"Global_Value\": 1734813.0}, {\"Consumption:\": \" by commercial and public services\", \"Year\": 2014.0, \"Global_Value\": 1751142.0}, {\"Consumption:\": \" by commercial and public services\", \"Year\": 2015.0, \"Global_Value\": 1788179.0}, {\"Consumption:\": \" by commercial and public services\", \"Year\": 2016.0, \"Global_Value\": 1826771.0}, {\"Consumption:\": \" by commercial and public services\", \"Year\": 2017.0, \"Global_Value\": 1852551.0}, {\"Consumption:\": \" by commercial and public services\", \"Year\": 2018.0, \"Global_Value\": 1867676.0}, {\"Consumption:\": \" by households\", \"Year\": 2008.0, \"Global_Value\": 2150770.0}, {\"Consumption:\": \" by households\", \"Year\": 2009.0, \"Global_Value\": 2211678.0}, {\"Consumption:\": \" by households\", \"Year\": 2010.0, \"Global_Value\": 2367279.0}, {\"Consumption:\": \" by households\", \"Year\": 2011.0, \"Global_Value\": 2412170.0}, {\"Consumption:\": \" by households\", \"Year\": 2012.0, \"Global_Value\": 2521602.0}, {\"Consumption:\": \" by households\", \"Year\": 2013.0, \"Global_Value\": 2668216.0}, {\"Consumption:\": \" by households\", \"Year\": 2014.0, \"Global_Value\": 2693916.0}, {\"Consumption:\": \" by households\", \"Year\": 2015.0, \"Global_Value\": 2788847.0}, {\"Consumption:\": \" by households\", \"Year\": 2016.0, \"Global_Value\": 2932126.0}, {\"Consumption:\": \" by households\", \"Year\": 2017.0, \"Global_Value\": 3030398.0}, {\"Consumption:\": \" by households\", \"Year\": 2018.0, \"Global_Value\": 3154499.0}, {\"Consumption:\": \" by manufacturing, construction and non-fuel industry\", \"Year\": 2008.0, \"Global_Value\": 4478060.0}, {\"Consumption:\": \" by manufacturing, construction and non-fuel industry\", \"Year\": 2009.0, \"Global_Value\": 4487470.0}, {\"Consumption:\": \" by manufacturing, construction and non-fuel industry\", \"Year\": 2010.0, \"Global_Value\": 4926192.0}, {\"Consumption:\": \" by manufacturing, construction and non-fuel industry\", \"Year\": 2011.0, \"Global_Value\": 5341063.0}, {\"Consumption:\": \" by manufacturing, construction and non-fuel industry\", \"Year\": 2012.0, \"Global_Value\": 5505203.0}, {\"Consumption:\": \" by manufacturing, construction and non-fuel industry\", \"Year\": 2013.0, \"Global_Value\": 5764353.0}, {\"Consumption:\": \" by manufacturing, construction and non-fuel industry\", \"Year\": 2014.0, \"Global_Value\": 5967905.0}, {\"Consumption:\": \" by manufacturing, construction and non-fuel industry\", \"Year\": 2015.0, \"Global_Value\": 6044085.0}, {\"Consumption:\": \" by manufacturing, construction and non-fuel industry\", \"Year\": 2016.0, \"Global_Value\": 6134732.0}, {\"Consumption:\": \" by manufacturing, construction and non-fuel industry\", \"Year\": 2017.0, \"Global_Value\": 6391547.0}, {\"Consumption:\": \" by manufacturing, construction and non-fuel industry\", \"Year\": 2018.0, \"Global_Value\": 6797146.0}, {\"Consumption:\": \" by pipeline transport\", \"Year\": 2008.0, \"Global_Value\": 7330.0}, {\"Consumption:\": \" by pipeline transport\", \"Year\": 2009.0, \"Global_Value\": 7202.0}, {\"Consumption:\": \" by pipeline transport\", \"Year\": 2010.0, \"Global_Value\": 7627.0}, {\"Consumption:\": \" by pipeline transport\", \"Year\": 2011.0, \"Global_Value\": 8560.0}, {\"Consumption:\": \" by pipeline transport\", \"Year\": 2012.0, \"Global_Value\": 8688.0}, {\"Consumption:\": \" by pipeline transport\", \"Year\": 2013.0, \"Global_Value\": 10484.0}, {\"Consumption:\": \" by pipeline transport\", \"Year\": 2014.0, \"Global_Value\": 9806.0}, {\"Consumption:\": \" by pipeline transport\", \"Year\": 2015.0, \"Global_Value\": 10772.0}, {\"Consumption:\": \" by pipeline transport\", \"Year\": 2016.0, \"Global_Value\": 11624.0}, {\"Consumption:\": \" by pipeline transport\", \"Year\": 2017.0, \"Global_Value\": 12718.0}, {\"Consumption:\": \" by pipeline transport\", \"Year\": 2018.0, \"Global_Value\": 12845.0}, {\"Consumption:\": \" by transport\", \"Year\": 2008.0, \"Global_Value\": 153733.0}, {\"Consumption:\": \" by transport\", \"Year\": 2009.0, \"Global_Value\": 154888.0}, {\"Consumption:\": \" by transport\", \"Year\": 2010.0, \"Global_Value\": 168997.0}, {\"Consumption:\": \" by transport\", \"Year\": 2011.0, \"Global_Value\": 181919.0}, {\"Consumption:\": \" by transport\", \"Year\": 2012.0, \"Global_Value\": 188570.0}, {\"Consumption:\": \" by transport\", \"Year\": 2013.0, \"Global_Value\": 199866.0}, {\"Consumption:\": \" by transport\", \"Year\": 2014.0, \"Global_Value\": 205950.0}, {\"Consumption:\": \" by transport\", \"Year\": 2015.0, \"Global_Value\": 217185.0}, {\"Consumption:\": \" by transport\", \"Year\": 2016.0, \"Global_Value\": 231628.0}, {\"Consumption:\": \" by transport\", \"Year\": 2017.0, \"Global_Value\": 247862.0}, {\"Consumption:\": \" by transport\", \"Year\": 2018.0, \"Global_Value\": 268741.0}, {\"Consumption:\": \" by transport equipment\", \"Year\": 2008.0, \"Global_Value\": 88324.0}, {\"Consumption:\": \" by transport equipment\", \"Year\": 2009.0, \"Global_Value\": 78764.0}, {\"Consumption:\": \" by transport equipment\", \"Year\": 2010.0, \"Global_Value\": 87691.0}, {\"Consumption:\": \" by transport equipment\", \"Year\": 2011.0, \"Global_Value\": 88473.0}, {\"Consumption:\": \" by transport equipment\", \"Year\": 2012.0, \"Global_Value\": 90109.0}, {\"Consumption:\": \" by transport equipment\", \"Year\": 2013.0, \"Global_Value\": 100090.0}, {\"Consumption:\": \" by transport equipment\", \"Year\": 2014.0, \"Global_Value\": 102829.0}, {\"Consumption:\": \" by transport equipment\", \"Year\": 2015.0, \"Global_Value\": 102112.0}, {\"Consumption:\": \" by transport equipment\", \"Year\": 2016.0, \"Global_Value\": 105900.0}, {\"Consumption:\": \" by transport equipment\", \"Year\": 2017.0, \"Global_Value\": 94335.0}, {\"Consumption:\": \" by transport equipment\", \"Year\": 2018.0, \"Global_Value\": 95460.0}, {\"Consumption:\": \" in agriculture, forestry and fishing\", \"Year\": 2008.0, \"Global_Value\": 312056.0}, {\"Consumption:\": \" in agriculture, forestry and fishing\", \"Year\": 2009.0, \"Global_Value\": 324123.0}, {\"Consumption:\": \" in agriculture, forestry and fishing\", \"Year\": 2010.0, \"Global_Value\": 349957.0}, {\"Consumption:\": \" in agriculture, forestry and fishing\", \"Year\": 2011.0, \"Global_Value\": 366582.0}, {\"Consumption:\": \" in agriculture, forestry and fishing\", \"Year\": 2012.0, \"Global_Value\": 381714.0}, {\"Consumption:\": \" in agriculture, forestry and fishing\", \"Year\": 2013.0, \"Global_Value\": 404591.0}, {\"Consumption:\": \" in agriculture, forestry and fishing\", \"Year\": 2014.0, \"Global_Value\": 418473.0}, {\"Consumption:\": \" in agriculture, forestry and fishing\", \"Year\": 2015.0, \"Global_Value\": 428602.0}, {\"Consumption:\": \" in agriculture, forestry and fishing\", \"Year\": 2016.0, \"Global_Value\": 460760.0}, {\"Consumption:\": \" in agriculture, forestry and fishing\", \"Year\": 2017.0, \"Global_Value\": 483224.0}, {\"Consumption:\": \" in agriculture, forestry and fishing\", \"Year\": 2018.0, \"Global_Value\": 495953.0}, {\"Consumption:\": \" not elsewhere specified (industry)\", \"Year\": 2008.0, \"Global_Value\": 2004064.0}, {\"Consumption:\": \" not elsewhere specified (industry)\", \"Year\": 2009.0, \"Global_Value\": 2099337.0}, {\"Consumption:\": \" not elsewhere specified (industry)\", \"Year\": 2010.0, \"Global_Value\": 2321831.0}, {\"Consumption:\": \" not elsewhere specified (industry)\", \"Year\": 2011.0, \"Global_Value\": 2615566.0}, {\"Consumption:\": \" not elsewhere specified (industry)\", \"Year\": 2012.0, \"Global_Value\": 2741859.0}, {\"Consumption:\": \" not elsewhere specified (industry)\", \"Year\": 2013.0, \"Global_Value\": 2685612.0}, {\"Consumption:\": \" not elsewhere specified (industry)\", \"Year\": 2014.0, \"Global_Value\": 2799509.0}, {\"Consumption:\": \" not elsewhere specified (industry)\", \"Year\": 2015.0, \"Global_Value\": 2983414.0}, {\"Consumption:\": \" not elsewhere specified (industry)\", \"Year\": 2016.0, \"Global_Value\": 3108210.0}, {\"Consumption:\": \" not elsewhere specified (industry)\", \"Year\": 2017.0, \"Global_Value\": 3534257.0}, {\"Consumption:\": \" not elsewhere specified (industry)\", \"Year\": 2018.0, \"Global_Value\": 3780227.0}, {\"Consumption:\": \" not elsewhere specified (transport)\", \"Year\": 2008.0, \"Global_Value\": 27266.0}, {\"Consumption:\": \" not elsewhere specified (transport)\", \"Year\": 2009.0, \"Global_Value\": 26082.0}, {\"Consumption:\": \" not elsewhere specified (transport)\", \"Year\": 2010.0, \"Global_Value\": 27676.0}, {\"Consumption:\": \" not elsewhere specified (transport)\", \"Year\": 2011.0, \"Global_Value\": 30316.0}, {\"Consumption:\": \" not elsewhere specified (transport)\", \"Year\": 2012.0, \"Global_Value\": 30471.0}, {\"Consumption:\": \" not elsewhere specified (transport)\", \"Year\": 2013.0, \"Global_Value\": 30915.0}, {\"Consumption:\": \" not elsewhere specified (transport)\", \"Year\": 2014.0, \"Global_Value\": 30628.0}, {\"Consumption:\": \" not elsewhere specified (transport)\", \"Year\": 2015.0, \"Global_Value\": 33141.0}, {\"Consumption:\": \" not elsewhere specified (transport)\", \"Year\": 2016.0, \"Global_Value\": 35038.0}, {\"Consumption:\": \" not elsewhere specified (transport)\", \"Year\": 2017.0, \"Global_Value\": 38300.0}, {\"Consumption:\": \" not elsewhere specified (transport)\", \"Year\": 2018.0, \"Global_Value\": 39770.0}]}}, {\"mode\": \"vega-lite\"});\n",
              "</script>"
            ]
          },
          "metadata": {},
          "execution_count": 170
        }
      ]
    },
    {
      "cell_type": "markdown",
      "metadata": {
        "id": "LHCgkPtp9yFq"
      },
      "source": [
        "### Q2.C Wide Format Table"
      ]
    },
    {
      "cell_type": "code",
      "metadata": {
        "colab": {
          "base_uri": "https://localhost:8080/",
          "height": 580
        },
        "id": "rbEcuAYPPTb2",
        "outputId": "10365570-d947-403a-fe98-ebd94cc342d2"
      },
      "source": [
        "Q2_agg_wide=Q2_agg.pivot(index='Consumption:', columns='Year', values='Global_Value')\n",
        "Q2_agg_wide.sort_index(level=0, ascending=True, inplace=True)\n",
        "#Q2_agg_wide.columns = list(map(''.join, Q2_agg_wide.columns.values))\n",
        "Q2_agg_wide\n"
      ],
      "execution_count": null,
      "outputs": [
        {
          "output_type": "execute_result",
          "data": {
            "text/html": [
              "<div>\n",
              "<style scoped>\n",
              "    .dataframe tbody tr th:only-of-type {\n",
              "        vertical-align: middle;\n",
              "    }\n",
              "\n",
              "    .dataframe tbody tr th {\n",
              "        vertical-align: top;\n",
              "    }\n",
              "\n",
              "    .dataframe thead th {\n",
              "        text-align: right;\n",
              "    }\n",
              "</style>\n",
              "<table border=\"1\" class=\"dataframe\">\n",
              "  <thead>\n",
              "    <tr style=\"text-align: right;\">\n",
              "      <th>Year</th>\n",
              "      <th>2008.0</th>\n",
              "      <th>2009.0</th>\n",
              "      <th>2010.0</th>\n",
              "      <th>2011.0</th>\n",
              "      <th>2012.0</th>\n",
              "      <th>2013.0</th>\n",
              "      <th>2014.0</th>\n",
              "      <th>2015.0</th>\n",
              "      <th>2016.0</th>\n",
              "      <th>2017.0</th>\n",
              "      <th>2018.0</th>\n",
              "    </tr>\n",
              "    <tr>\n",
              "      <th>Consumption:</th>\n",
              "      <th></th>\n",
              "      <th></th>\n",
              "      <th></th>\n",
              "      <th></th>\n",
              "      <th></th>\n",
              "      <th></th>\n",
              "      <th></th>\n",
              "      <th></th>\n",
              "      <th></th>\n",
              "      <th></th>\n",
              "      <th></th>\n",
              "    </tr>\n",
              "  </thead>\n",
              "  <tbody>\n",
              "    <tr>\n",
              "      <th>by commercial and public services</th>\n",
              "      <td>1553260.0</td>\n",
              "      <td>1626037.0</td>\n",
              "      <td>1682331.0</td>\n",
              "      <td>1677218.0</td>\n",
              "      <td>1694860.0</td>\n",
              "      <td>1734813.0</td>\n",
              "      <td>1751142.0</td>\n",
              "      <td>1788179.0</td>\n",
              "      <td>1826771.0</td>\n",
              "      <td>1852551.0</td>\n",
              "      <td>1867676.0</td>\n",
              "    </tr>\n",
              "    <tr>\n",
              "      <th>by households</th>\n",
              "      <td>2150770.0</td>\n",
              "      <td>2211678.0</td>\n",
              "      <td>2367279.0</td>\n",
              "      <td>2412170.0</td>\n",
              "      <td>2521602.0</td>\n",
              "      <td>2668216.0</td>\n",
              "      <td>2693916.0</td>\n",
              "      <td>2788847.0</td>\n",
              "      <td>2932126.0</td>\n",
              "      <td>3030398.0</td>\n",
              "      <td>3154499.0</td>\n",
              "    </tr>\n",
              "    <tr>\n",
              "      <th>by manufacturing, construction and non-fuel industry</th>\n",
              "      <td>4478060.0</td>\n",
              "      <td>4487470.0</td>\n",
              "      <td>4926192.0</td>\n",
              "      <td>5341063.0</td>\n",
              "      <td>5505203.0</td>\n",
              "      <td>5764353.0</td>\n",
              "      <td>5967905.0</td>\n",
              "      <td>6044085.0</td>\n",
              "      <td>6134732.0</td>\n",
              "      <td>6391547.0</td>\n",
              "      <td>6797146.0</td>\n",
              "    </tr>\n",
              "    <tr>\n",
              "      <th>by pipeline transport</th>\n",
              "      <td>7330.0</td>\n",
              "      <td>7202.0</td>\n",
              "      <td>7627.0</td>\n",
              "      <td>8560.0</td>\n",
              "      <td>8688.0</td>\n",
              "      <td>10484.0</td>\n",
              "      <td>9806.0</td>\n",
              "      <td>10772.0</td>\n",
              "      <td>11624.0</td>\n",
              "      <td>12718.0</td>\n",
              "      <td>12845.0</td>\n",
              "    </tr>\n",
              "    <tr>\n",
              "      <th>by transport</th>\n",
              "      <td>153733.0</td>\n",
              "      <td>154888.0</td>\n",
              "      <td>168997.0</td>\n",
              "      <td>181919.0</td>\n",
              "      <td>188570.0</td>\n",
              "      <td>199866.0</td>\n",
              "      <td>205950.0</td>\n",
              "      <td>217185.0</td>\n",
              "      <td>231628.0</td>\n",
              "      <td>247862.0</td>\n",
              "      <td>268741.0</td>\n",
              "    </tr>\n",
              "    <tr>\n",
              "      <th>by transport equipment</th>\n",
              "      <td>88324.0</td>\n",
              "      <td>78764.0</td>\n",
              "      <td>87691.0</td>\n",
              "      <td>88473.0</td>\n",
              "      <td>90109.0</td>\n",
              "      <td>100090.0</td>\n",
              "      <td>102829.0</td>\n",
              "      <td>102112.0</td>\n",
              "      <td>105900.0</td>\n",
              "      <td>94335.0</td>\n",
              "      <td>95460.0</td>\n",
              "    </tr>\n",
              "    <tr>\n",
              "      <th>in agriculture, forestry and fishing</th>\n",
              "      <td>312056.0</td>\n",
              "      <td>324123.0</td>\n",
              "      <td>349957.0</td>\n",
              "      <td>366582.0</td>\n",
              "      <td>381714.0</td>\n",
              "      <td>404591.0</td>\n",
              "      <td>418473.0</td>\n",
              "      <td>428602.0</td>\n",
              "      <td>460760.0</td>\n",
              "      <td>483224.0</td>\n",
              "      <td>495953.0</td>\n",
              "    </tr>\n",
              "    <tr>\n",
              "      <th>not elsewhere specified (industry)</th>\n",
              "      <td>2004064.0</td>\n",
              "      <td>2099337.0</td>\n",
              "      <td>2321831.0</td>\n",
              "      <td>2615566.0</td>\n",
              "      <td>2741859.0</td>\n",
              "      <td>2685612.0</td>\n",
              "      <td>2799509.0</td>\n",
              "      <td>2983414.0</td>\n",
              "      <td>3108210.0</td>\n",
              "      <td>3534257.0</td>\n",
              "      <td>3780227.0</td>\n",
              "    </tr>\n",
              "    <tr>\n",
              "      <th>not elsewhere specified (transport)</th>\n",
              "      <td>27266.0</td>\n",
              "      <td>26082.0</td>\n",
              "      <td>27676.0</td>\n",
              "      <td>30316.0</td>\n",
              "      <td>30471.0</td>\n",
              "      <td>30915.0</td>\n",
              "      <td>30628.0</td>\n",
              "      <td>33141.0</td>\n",
              "      <td>35038.0</td>\n",
              "      <td>38300.0</td>\n",
              "      <td>39770.0</td>\n",
              "    </tr>\n",
              "  </tbody>\n",
              "</table>\n",
              "</div>"
            ],
            "text/plain": [
              "Year                                                   2008.0  ...     2018.0\n",
              "Consumption:                                                   ...           \n",
              " by commercial and public services                  1553260.0  ...  1867676.0\n",
              " by households                                      2150770.0  ...  3154499.0\n",
              " by manufacturing, construction and non-fuel in...  4478060.0  ...  6797146.0\n",
              " by pipeline transport                                 7330.0  ...    12845.0\n",
              " by transport                                        153733.0  ...   268741.0\n",
              " by transport equipment                               88324.0  ...    95460.0\n",
              " in agriculture, forestry and fishing                312056.0  ...   495953.0\n",
              " not elsewhere specified (industry)                 2004064.0  ...  3780227.0\n",
              " not elsewhere specified (transport)                  27266.0  ...    39770.0\n",
              "\n",
              "[9 rows x 11 columns]"
            ]
          },
          "metadata": {},
          "execution_count": 171
        }
      ]
    },
    {
      "cell_type": "code",
      "metadata": {
        "id": "n3Zpf-iCQJqD"
      },
      "source": [
        ""
      ],
      "execution_count": null,
      "outputs": []
    },
    {
      "cell_type": "markdown",
      "metadata": {
        "id": "AUSyx3jw91pi"
      },
      "source": [
        "### Q2.D Heat Map"
      ]
    },
    {
      "cell_type": "code",
      "metadata": {
        "colab": {
          "base_uri": "https://localhost:8080/",
          "height": 513
        },
        "id": "s38jnTIYQ8qO",
        "outputId": "29da997d-7cd6-43b8-88b1-f74cde92625b"
      },
      "source": [
        "import seaborn as sns\n",
        "import matplotlib.pyplot as plt\n",
        "Transactions = Q2_agg[\"Consumption:\"].unique().tolist()\n",
        "fig, ax = plt.subplots(figsize=(15,7))\n",
        "sns.heatmap(Q2_agg_wide, robust = True)\n",
        "plt.xlabel(\"Year\", size=14)\n",
        "plt.ylabel(\"Consumption:\", size=14)\n",
        "plt.title(\"Electricity Consumption Per Sector\", size=14)\n",
        "plt.tight_layout()\n",
        "plt.show()"
      ],
      "execution_count": null,
      "outputs": [
        {
          "output_type": "display_data",
          "data": {
            "image/png": "[encoded data removed]",
            "text/plain": [
              "<Figure size 1080x504 with 2 Axes>"
            ]
          },
          "metadata": {
            "needs_background": "light"
          }
        }
      ]
    },
    {
      "cell_type": "markdown",
      "metadata": {
        "id": "I4mDLMnXA34O"
      },
      "source": [
        "## Other Questions:\n"
      ]
    },
    {
      "cell_type": "markdown",
      "metadata": {
        "id": "Aig7YfqiANWO"
      },
      "source": [
        "### i.What are the capacity factors per type of generator? Are the capacity factors comparable per country? Has there be an improvement during the last decade?"
      ]
    },
    {
      "cell_type": "markdown",
      "metadata": {
        "id": "5vH5tRpvDAQo"
      },
      "source": [
        "Capacity factor (C.F.) is the ratio of the actual electrical energy output over a given period of time to the maximum possible electrical energy output. For example, the C.F. of a 1.5 kilo-Watt rated wind turbine that in a year generates 4000 kilowatt-hours is:"
      ]
    },
    {
      "cell_type": "code",
      "metadata": {
        "colab": {
          "base_uri": "https://localhost:8080/"
        },
        "id": "b1-SW_htDTOh",
        "outputId": "4bb0318d-01ae-4d3c-e849-ccc2eaae94d2"
      },
      "source": [
        "CF = 4000/(1.5*24*365) #1.5 rated kilowatss * 24 hours * 365 days in a year\n",
        "print(\"The calculated capacity factor is:\", round(CF,2))"
      ],
      "execution_count": null,
      "outputs": [
        {
          "output_type": "stream",
          "name": "stdout",
          "text": [
            "The calculated capacity factor is: 0.3\n"
          ]
        }
      ]
    },
    {
      "cell_type": "markdown",
      "metadata": {
        "id": "18uqFLgNEMMn"
      },
      "source": [
        "This questions may be answered by comparing the declared installed capacity per country per year per generator and the corresponding declared generation."
      ]
    },
    {
      "cell_type": "code",
      "metadata": {
        "colab": {
          "base_uri": "https://localhost:8080/"
        },
        "id": "oAR_41tjA5yw",
        "outputId": "6c08a143-5042-4082-8a55-d3fc74f212cb"
      },
      "source": [
        "keyword = [\"InstalledCapacity\"]\n",
        "deploy_gen_pths = [s for s in UN_files if any(xs in s for xs in keyword)]\n",
        "print(\"\\n\".join(deploy_gen_pths)) #printing every list item with a newline"
      ],
      "execution_count": null,
      "outputs": [
        {
          "output_type": "stream",
          "name": "stdout",
          "text": [
            "/content/drive/MyDrive/Datasets/Sidewalk_Lab/UNdata_Export_InstalledCapacity.csv\n"
          ]
        }
      ]
    },
    {
      "cell_type": "code",
      "metadata": {
        "colab": {
          "base_uri": "https://localhost:8080/"
        },
        "id": "NjW_d33JBnAP",
        "outputId": "1880a00d-c6ce-48ae-9ae3-d9d3a1bb3849"
      },
      "source": [
        "dplyd_gen_df = pd.read_csv(deploy_gen_pths[0])\n",
        "dplyd_gen_df = dplyd_gen_df.rename({'Country or Area': 'Country', 'Commodity - Transaction': 'Transaction', 'Quantity Footnotes':'Footnotes'}, axis=1)  \n",
        "trans_lst = dplyd_gen_df.Transaction.unique().tolist()\n",
        "trans_lst.sort()\n",
        "print(\"List of transactions in Dataframe:\\n\",\"\\n\".join(trans_lst))"
      ],
      "execution_count": null,
      "outputs": [
        {
          "output_type": "stream",
          "name": "stdout",
          "text": [
            "List of transactions in Dataframe:\n",
            " Electricity - net installed capacity of electric power plants public solar\n",
            "Electricity - net installed capacity of electric power plants, public combustible fuels\n",
            "Electricity - net installed capacity of electric power plants, public geothermal\n",
            "Electricity - net installed capacity of electric power plants, public hydro\n",
            "Electricity - net installed capacity of electric power plants, public nuclear\n",
            "Electricity - net installed capacity of electric power plants, public tide, wave, marine\n",
            "Electricity - net installed capacity of electric power plants, public wind\n",
            "Electricity - net installed capacity of electric power plants, self-producer combustible fuels\n",
            "Electricity - net installed capacity of electric power plants, self-producer geothermal\n",
            "Electricity - net installed capacity of electric power plants, self-producer hydro\n",
            "Electricity - net installed capacity of electric power plants, self-producer nuclear\n",
            "Electricity - net installed capacity of electric power plants, self-producer solar\n",
            "Electricity - net installed capacity of electric power plants, self-producer tide, wave, marine\n",
            "Electricity - net installed capacity of electric power plants, self-producer wind\n",
            "Electricity - total net installed capacity of electric power plants, autoproducer\n",
            "Electricity - total net installed capacity of electric power plants, combustible fuels\n",
            "Electricity - total net installed capacity of electric power plants, geothermal\n",
            "Electricity - total net installed capacity of electric power plants, hydro\n",
            "Electricity - total net installed capacity of electric power plants, main activity\n",
            "Electricity - total net installed capacity of electric power plants, main activity & autoproducer\n",
            "Electricity - total net installed capacity of electric power plants, nuclear\n",
            "Electricity - total net installed capacity of electric power plants, solar\n",
            "Electricity - total net installed capacity of electric power plants, tide, wave, marine\n",
            "Electricity - total net installed capacity of electric power plants, wind\n",
            "Electricity generating capacity - From other sources - Autoproducers\n",
            "Electricity generating capacity - From other sources - Main activity producers\n",
            "Electricity generating capacity - From other sources - Total\n",
            "Electricity generating capacity - Pumped hydro - Autoproducers\n",
            "Electricity generating capacity - Pumped hydro - Main activity producers\n",
            "Electricity generating capacity - Pumped hydro - Total\n",
            "Electricity generating capacity - Solar PV - Autoproducers\n",
            "Electricity generating capacity - Solar PV - Main activity producers\n",
            "Electricity generating capacity - Solar PV - Total\n",
            "Electricity generating capacity - Solar Thermal - Autoproducers\n",
            "Electricity generating capacity - Solar Thermal - Main activity producers\n",
            "Electricity generating capacity - Solar Thermal - Total\n",
            "Estimate\n",
            "Footnote\n"
          ]
        }
      ]
    },
    {
      "cell_type": "markdown",
      "metadata": {
        "id": "QY3b3pyNFFBc"
      },
      "source": [
        "### ii.In which country has the generation from renewables (wind, solar, hydro and tidal generators) surpassed generation from thermal generators (Coal, Oil, Natural Gas and Biofuels)?"
      ]
    },
    {
      "cell_type": "markdown",
      "metadata": {
        "id": "Hw53LR9nGNCM"
      },
      "source": [
        "Can be answered by comparing the sum of renewable generators vs sum of thermal generators for each country per year:\n",
        "Create two dataframes:\n",
        "Aggregate(Country, Thermal, Year, Sum(Quantity) & \n",
        "Aggregate(Country, Renewable, Year, Sum(Quantity)\n",
        "\n",
        "Join both dataframes using Country as index. Create a new column in the Join DF with the difference between two aggregates."
      ]
    }
  ]
}